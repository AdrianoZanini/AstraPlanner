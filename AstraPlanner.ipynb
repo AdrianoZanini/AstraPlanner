{
 "cells": [
  {
   "cell_type": "code",
   "execution_count": 56,
   "id": "d9554c2d-bdda-40c6-848c-61f6830ed6ab",
   "metadata": {
    "tags": []
   },
   "outputs": [],
   "source": [
    "import dash\n",
    "from dash import Input, Output, html, dcc, State, dash_table\n",
    "import dash_bootstrap_components as dbc\n",
    "import math\n",
    "import pandas as pd\n",
    "import plotly.express as px\n",
    "import plotly.graph_objects as go\n",
    "from cs50 import SQL\n",
    "import time\n",
    "from datetime import date, datetime, timedelta\n",
    "from pandas.tseries.offsets import DateOffset\n",
    "import plotly.graph_objects as go\n",
    "import numpy as np"
   ]
  },
  {
   "cell_type": "code",
   "execution_count": 57,
   "id": "5dc43365-d25d-4d16-ae3c-a62d751991ad",
   "metadata": {
    "tags": []
   },
   "outputs": [],
   "source": [
    "db = SQL(\"sqlite:///project.db\")"
   ]
  },
  {
   "cell_type": "code",
   "execution_count": 58,
   "id": "3adaee19-3288-4872-a4b0-3d34ae2aefa3",
   "metadata": {
    "tags": []
   },
   "outputs": [
    {
     "data": {
      "text/html": [
       "<div>\n",
       "<style scoped>\n",
       "    .dataframe tbody tr th:only-of-type {\n",
       "        vertical-align: middle;\n",
       "    }\n",
       "\n",
       "    .dataframe tbody tr th {\n",
       "        vertical-align: top;\n",
       "    }\n",
       "\n",
       "    .dataframe thead th {\n",
       "        text-align: right;\n",
       "    }\n",
       "</style>\n",
       "<table border=\"1\" class=\"dataframe\">\n",
       "  <thead>\n",
       "    <tr style=\"text-align: right;\">\n",
       "      <th></th>\n",
       "      <th>project</th>\n",
       "      <th>task_id</th>\n",
       "      <th>task</th>\n",
       "      <th>demand</th>\n",
       "      <th>people_id</th>\n",
       "      <th>person</th>\n",
       "      <th>team</th>\n",
       "      <th>start_date</th>\n",
       "      <th>end_date</th>\n",
       "      <th>hours_day</th>\n",
       "      <th>total_hours</th>\n",
       "    </tr>\n",
       "  </thead>\n",
       "  <tbody>\n",
       "    <tr>\n",
       "      <th>0</th>\n",
       "      <td>CE Serra do Tigre</td>\n",
       "      <td>1</td>\n",
       "      <td>Relatório de Edificações</td>\n",
       "      <td>32</td>\n",
       "      <td>2</td>\n",
       "      <td>Max</td>\n",
       "      <td>Socio</td>\n",
       "      <td>2023-03-29</td>\n",
       "      <td>2023-03-30</td>\n",
       "      <td>8</td>\n",
       "      <td>16</td>\n",
       "    </tr>\n",
       "    <tr>\n",
       "      <th>1</th>\n",
       "      <td>CE Serra do Tigre</td>\n",
       "      <td>1</td>\n",
       "      <td>Relatório de Edificações</td>\n",
       "      <td>32</td>\n",
       "      <td>7</td>\n",
       "      <td>Raquel</td>\n",
       "      <td>Socio</td>\n",
       "      <td>2023-03-29</td>\n",
       "      <td>2023-03-30</td>\n",
       "      <td>8</td>\n",
       "      <td>16</td>\n",
       "    </tr>\n",
       "    <tr>\n",
       "      <th>2</th>\n",
       "      <td>CE Cajuina A</td>\n",
       "      <td>2</td>\n",
       "      <td>Diagnóstico PMIS</td>\n",
       "      <td>24</td>\n",
       "      <td>5</td>\n",
       "      <td>Mariana</td>\n",
       "      <td>Socio</td>\n",
       "      <td>2023-03-29</td>\n",
       "      <td>2023-03-31</td>\n",
       "      <td>8</td>\n",
       "      <td>24</td>\n",
       "    </tr>\n",
       "    <tr>\n",
       "      <th>3</th>\n",
       "      <td>UFV Oliveira dos Brejinhos</td>\n",
       "      <td>3</td>\n",
       "      <td>Mobilização de Campo</td>\n",
       "      <td>4</td>\n",
       "      <td>7</td>\n",
       "      <td>Raquel</td>\n",
       "      <td>Socio</td>\n",
       "      <td>2023-03-31</td>\n",
       "      <td>2023-03-31</td>\n",
       "      <td>4</td>\n",
       "      <td>4</td>\n",
       "    </tr>\n",
       "    <tr>\n",
       "      <th>4</th>\n",
       "      <td>CE Babilônia Centro</td>\n",
       "      <td>4</td>\n",
       "      <td>Programas PBA LT</td>\n",
       "      <td>16</td>\n",
       "      <td>6</td>\n",
       "      <td>Edimara</td>\n",
       "      <td>Socio</td>\n",
       "      <td>2023-03-30</td>\n",
       "      <td>2023-03-31</td>\n",
       "      <td>8</td>\n",
       "      <td>16</td>\n",
       "    </tr>\n",
       "    <tr>\n",
       "      <th>5</th>\n",
       "      <td>CE Rio do Vento Expansão</td>\n",
       "      <td>5</td>\n",
       "      <td>Diagnóstico PMIS</td>\n",
       "      <td>32</td>\n",
       "      <td>5</td>\n",
       "      <td>Mariana</td>\n",
       "      <td>Socio</td>\n",
       "      <td>2023-04-03</td>\n",
       "      <td>2023-04-06</td>\n",
       "      <td>8</td>\n",
       "      <td>32</td>\n",
       "    </tr>\n",
       "    <tr>\n",
       "      <th>6</th>\n",
       "      <td>CE Queimada Nova IV</td>\n",
       "      <td>6</td>\n",
       "      <td>Diagnóstico de ADA</td>\n",
       "      <td>8</td>\n",
       "      <td>6</td>\n",
       "      <td>Edimara</td>\n",
       "      <td>Socio</td>\n",
       "      <td>2023-03-29</td>\n",
       "      <td>2023-03-29</td>\n",
       "      <td>8</td>\n",
       "      <td>8</td>\n",
       "    </tr>\n",
       "    <tr>\n",
       "      <th>7</th>\n",
       "      <td>CE Queimada Nova IV</td>\n",
       "      <td>7</td>\n",
       "      <td>Análise Integrada</td>\n",
       "      <td>4</td>\n",
       "      <td>6</td>\n",
       "      <td>Edimara</td>\n",
       "      <td>Socio</td>\n",
       "      <td>2023-03-30</td>\n",
       "      <td>2023-03-30</td>\n",
       "      <td>4</td>\n",
       "      <td>4</td>\n",
       "    </tr>\n",
       "    <tr>\n",
       "      <th>8</th>\n",
       "      <td>CE Queimada Nova IV</td>\n",
       "      <td>8</td>\n",
       "      <td>Revisão AIA/RIMA/Programas</td>\n",
       "      <td>8</td>\n",
       "      <td>6</td>\n",
       "      <td>Edimara</td>\n",
       "      <td>Socio</td>\n",
       "      <td>2023-03-30</td>\n",
       "      <td>2023-03-31</td>\n",
       "      <td>4</td>\n",
       "      <td>8</td>\n",
       "    </tr>\n",
       "    <tr>\n",
       "      <th>9</th>\n",
       "      <td>CE Cajuina 5L</td>\n",
       "      <td>9</td>\n",
       "      <td>Revisão Inventário Turístico</td>\n",
       "      <td>4</td>\n",
       "      <td>7</td>\n",
       "      <td>Raquel</td>\n",
       "      <td>Socio</td>\n",
       "      <td>2023-04-03</td>\n",
       "      <td>2023-04-03</td>\n",
       "      <td>4</td>\n",
       "      <td>4</td>\n",
       "    </tr>\n",
       "    <tr>\n",
       "      <th>10</th>\n",
       "      <td>CE Babilônia Centro</td>\n",
       "      <td>11</td>\n",
       "      <td>Campo - Mapeamento de Stakeholders</td>\n",
       "      <td>40</td>\n",
       "      <td>4</td>\n",
       "      <td>Paulo</td>\n",
       "      <td>Socio</td>\n",
       "      <td>2023-03-29</td>\n",
       "      <td>2023-04-04</td>\n",
       "      <td>8</td>\n",
       "      <td>40</td>\n",
       "    </tr>\n",
       "    <tr>\n",
       "      <th>11</th>\n",
       "      <td>CE Babilônia Centro</td>\n",
       "      <td>12</td>\n",
       "      <td>Diagnóstico de Mapeamento</td>\n",
       "      <td>128</td>\n",
       "      <td>4</td>\n",
       "      <td>Paulo</td>\n",
       "      <td>Socio</td>\n",
       "      <td>2023-04-10</td>\n",
       "      <td>2023-04-19</td>\n",
       "      <td>8</td>\n",
       "      <td>64</td>\n",
       "    </tr>\n",
       "    <tr>\n",
       "      <th>12</th>\n",
       "      <td>CE Babilônia Centro</td>\n",
       "      <td>12</td>\n",
       "      <td>Diagnóstico de Mapeamento</td>\n",
       "      <td>128</td>\n",
       "      <td>5</td>\n",
       "      <td>Mariana</td>\n",
       "      <td>Socio</td>\n",
       "      <td>2023-04-10</td>\n",
       "      <td>2023-04-19</td>\n",
       "      <td>8</td>\n",
       "      <td>64</td>\n",
       "    </tr>\n",
       "    <tr>\n",
       "      <th>13</th>\n",
       "      <td>CE Babilônia Centro</td>\n",
       "      <td>13</td>\n",
       "      <td>Reuniões Comunitárias</td>\n",
       "      <td>24</td>\n",
       "      <td>4</td>\n",
       "      <td>Paulo</td>\n",
       "      <td>Socio</td>\n",
       "      <td>2023-05-03</td>\n",
       "      <td>2023-05-05</td>\n",
       "      <td>8</td>\n",
       "      <td>24</td>\n",
       "    </tr>\n",
       "    <tr>\n",
       "      <th>14</th>\n",
       "      <td>CE Babilônia Centro</td>\n",
       "      <td>14</td>\n",
       "      <td>Revisão Final do Mapeamento</td>\n",
       "      <td>16</td>\n",
       "      <td>4</td>\n",
       "      <td>Paulo</td>\n",
       "      <td>Socio</td>\n",
       "      <td>2023-05-08</td>\n",
       "      <td>2023-05-09</td>\n",
       "      <td>8</td>\n",
       "      <td>16</td>\n",
       "    </tr>\n",
       "    <tr>\n",
       "      <th>15</th>\n",
       "      <td>UFV Rio do Vento I</td>\n",
       "      <td>15</td>\n",
       "      <td>RAC IRDPA</td>\n",
       "      <td>32</td>\n",
       "      <td>3</td>\n",
       "      <td>Julio</td>\n",
       "      <td>Socio</td>\n",
       "      <td>2023-04-03</td>\n",
       "      <td>2023-04-06</td>\n",
       "      <td>8</td>\n",
       "      <td>32</td>\n",
       "    </tr>\n",
       "    <tr>\n",
       "      <th>16</th>\n",
       "      <td>LT Assuruá 6</td>\n",
       "      <td>16</td>\n",
       "      <td>Diagnóstico de AII/AID</td>\n",
       "      <td>8</td>\n",
       "      <td>1</td>\n",
       "      <td>Renata</td>\n",
       "      <td>Socio</td>\n",
       "      <td>2023-04-06</td>\n",
       "      <td>2023-04-06</td>\n",
       "      <td>8</td>\n",
       "      <td>8</td>\n",
       "    </tr>\n",
       "    <tr>\n",
       "      <th>17</th>\n",
       "      <td>LT Assuruá 6</td>\n",
       "      <td>17</td>\n",
       "      <td>Prognóstico</td>\n",
       "      <td>4</td>\n",
       "      <td>1</td>\n",
       "      <td>Renata</td>\n",
       "      <td>Socio</td>\n",
       "      <td>2023-04-10</td>\n",
       "      <td>2023-04-10</td>\n",
       "      <td>4</td>\n",
       "      <td>4</td>\n",
       "    </tr>\n",
       "    <tr>\n",
       "      <th>18</th>\n",
       "      <td>LT Assuruá 6</td>\n",
       "      <td>18</td>\n",
       "      <td>Avaliação de Impactos</td>\n",
       "      <td>8</td>\n",
       "      <td>1</td>\n",
       "      <td>Renata</td>\n",
       "      <td>Socio</td>\n",
       "      <td>2023-04-11</td>\n",
       "      <td>2023-04-11</td>\n",
       "      <td>8</td>\n",
       "      <td>8</td>\n",
       "    </tr>\n",
       "    <tr>\n",
       "      <th>19</th>\n",
       "      <td>LT Assuruá 6</td>\n",
       "      <td>19</td>\n",
       "      <td>Programas</td>\n",
       "      <td>16</td>\n",
       "      <td>1</td>\n",
       "      <td>Renata</td>\n",
       "      <td>Socio</td>\n",
       "      <td>2023-04-12</td>\n",
       "      <td>2023-04-13</td>\n",
       "      <td>8</td>\n",
       "      <td>16</td>\n",
       "    </tr>\n",
       "    <tr>\n",
       "      <th>20</th>\n",
       "      <td>LT Sento Sé I, II e Ourolândia</td>\n",
       "      <td>23</td>\n",
       "      <td>Reuniões Comunitárias</td>\n",
       "      <td>16</td>\n",
       "      <td>4</td>\n",
       "      <td>Paulo</td>\n",
       "      <td>Socio</td>\n",
       "      <td>2023-05-06</td>\n",
       "      <td>2023-05-09</td>\n",
       "      <td>8</td>\n",
       "      <td>16</td>\n",
       "    </tr>\n",
       "    <tr>\n",
       "      <th>21</th>\n",
       "      <td>LT Sento Sé I, II e Ourolândia</td>\n",
       "      <td>24</td>\n",
       "      <td>Elaboração de Material Gráfico</td>\n",
       "      <td>8</td>\n",
       "      <td>7</td>\n",
       "      <td>Raquel</td>\n",
       "      <td>Socio</td>\n",
       "      <td>2023-04-04</td>\n",
       "      <td>2023-04-04</td>\n",
       "      <td>8</td>\n",
       "      <td>8</td>\n",
       "    </tr>\n",
       "    <tr>\n",
       "      <th>22</th>\n",
       "      <td>CE Babilônia Centro</td>\n",
       "      <td>32</td>\n",
       "      <td>Itemização de Relatório</td>\n",
       "      <td>6</td>\n",
       "      <td>7</td>\n",
       "      <td>Raquel</td>\n",
       "      <td>Socio</td>\n",
       "      <td>2023-04-05</td>\n",
       "      <td>2023-04-05</td>\n",
       "      <td>6</td>\n",
       "      <td>6</td>\n",
       "    </tr>\n",
       "  </tbody>\n",
       "</table>\n",
       "</div>"
      ],
      "text/plain": [
       "                           project  task_id  \\\n",
       "0                CE Serra do Tigre        1   \n",
       "1                CE Serra do Tigre        1   \n",
       "2                     CE Cajuina A        2   \n",
       "3       UFV Oliveira dos Brejinhos        3   \n",
       "4              CE Babilônia Centro        4   \n",
       "5         CE Rio do Vento Expansão        5   \n",
       "6              CE Queimada Nova IV        6   \n",
       "7              CE Queimada Nova IV        7   \n",
       "8              CE Queimada Nova IV        8   \n",
       "9                    CE Cajuina 5L        9   \n",
       "10             CE Babilônia Centro       11   \n",
       "11             CE Babilônia Centro       12   \n",
       "12             CE Babilônia Centro       12   \n",
       "13             CE Babilônia Centro       13   \n",
       "14             CE Babilônia Centro       14   \n",
       "15              UFV Rio do Vento I       15   \n",
       "16                    LT Assuruá 6       16   \n",
       "17                    LT Assuruá 6       17   \n",
       "18                    LT Assuruá 6       18   \n",
       "19                    LT Assuruá 6       19   \n",
       "20  LT Sento Sé I, II e Ourolândia       23   \n",
       "21  LT Sento Sé I, II e Ourolândia       24   \n",
       "22             CE Babilônia Centro       32   \n",
       "\n",
       "                                  task  demand  people_id   person   team  \\\n",
       "0             Relatório de Edificações      32          2      Max  Socio   \n",
       "1             Relatório de Edificações      32          7   Raquel  Socio   \n",
       "2                     Diagnóstico PMIS      24          5  Mariana  Socio   \n",
       "3                 Mobilização de Campo       4          7   Raquel  Socio   \n",
       "4                     Programas PBA LT      16          6  Edimara  Socio   \n",
       "5                     Diagnóstico PMIS      32          5  Mariana  Socio   \n",
       "6                   Diagnóstico de ADA       8          6  Edimara  Socio   \n",
       "7                    Análise Integrada       4          6  Edimara  Socio   \n",
       "8           Revisão AIA/RIMA/Programas       8          6  Edimara  Socio   \n",
       "9         Revisão Inventário Turístico       4          7   Raquel  Socio   \n",
       "10  Campo - Mapeamento de Stakeholders      40          4    Paulo  Socio   \n",
       "11           Diagnóstico de Mapeamento     128          4    Paulo  Socio   \n",
       "12           Diagnóstico de Mapeamento     128          5  Mariana  Socio   \n",
       "13               Reuniões Comunitárias      24          4    Paulo  Socio   \n",
       "14         Revisão Final do Mapeamento      16          4    Paulo  Socio   \n",
       "15                           RAC IRDPA      32          3    Julio  Socio   \n",
       "16              Diagnóstico de AII/AID       8          1   Renata  Socio   \n",
       "17                         Prognóstico       4          1   Renata  Socio   \n",
       "18               Avaliação de Impactos       8          1   Renata  Socio   \n",
       "19                           Programas      16          1   Renata  Socio   \n",
       "20               Reuniões Comunitárias      16          4    Paulo  Socio   \n",
       "21      Elaboração de Material Gráfico       8          7   Raquel  Socio   \n",
       "22             Itemização de Relatório       6          7   Raquel  Socio   \n",
       "\n",
       "    start_date    end_date  hours_day  total_hours  \n",
       "0   2023-03-29  2023-03-30          8           16  \n",
       "1   2023-03-29  2023-03-30          8           16  \n",
       "2   2023-03-29  2023-03-31          8           24  \n",
       "3   2023-03-31  2023-03-31          4            4  \n",
       "4   2023-03-30  2023-03-31          8           16  \n",
       "5   2023-04-03  2023-04-06          8           32  \n",
       "6   2023-03-29  2023-03-29          8            8  \n",
       "7   2023-03-30  2023-03-30          4            4  \n",
       "8   2023-03-30  2023-03-31          4            8  \n",
       "9   2023-04-03  2023-04-03          4            4  \n",
       "10  2023-03-29  2023-04-04          8           40  \n",
       "11  2023-04-10  2023-04-19          8           64  \n",
       "12  2023-04-10  2023-04-19          8           64  \n",
       "13  2023-05-03  2023-05-05          8           24  \n",
       "14  2023-05-08  2023-05-09          8           16  \n",
       "15  2023-04-03  2023-04-06          8           32  \n",
       "16  2023-04-06  2023-04-06          8            8  \n",
       "17  2023-04-10  2023-04-10          4            4  \n",
       "18  2023-04-11  2023-04-11          8            8  \n",
       "19  2023-04-12  2023-04-13          8           16  \n",
       "20  2023-05-06  2023-05-09          8           16  \n",
       "21  2023-04-04  2023-04-04          8            8  \n",
       "22  2023-04-05  2023-04-05          6            6  "
      ]
     },
     "execution_count": 58,
     "metadata": {},
     "output_type": "execute_result"
    }
   ],
   "source": [
    "query = db.execute(\"SELECT projects.name project, task_id, tasks.name task, demand, people_id, people.name person, teams.name team, start_date, end_date, hours_day, total_hours FROM TaskAssign, Tasks, People, Projects, Teams WHERE task_id = tasks.id AND people_id = people.id AND tasks.project_id = projects.id AND people.team_id = teams.id\")\n",
    "df = pd.DataFrame(query)\n",
    "\n",
    "df"
   ]
  },
  {
   "cell_type": "code",
   "execution_count": 79,
   "id": "c1d446ab-81e7-4872-b99a-ca29b4409c02",
   "metadata": {
    "tags": []
   },
   "outputs": [
    {
     "data": {
      "text/html": [
       "<div>\n",
       "<style scoped>\n",
       "    .dataframe tbody tr th:only-of-type {\n",
       "        vertical-align: middle;\n",
       "    }\n",
       "\n",
       "    .dataframe tbody tr th {\n",
       "        vertical-align: top;\n",
       "    }\n",
       "\n",
       "    .dataframe thead th {\n",
       "        text-align: right;\n",
       "    }\n",
       "</style>\n",
       "<table border=\"1\" class=\"dataframe\">\n",
       "  <thead>\n",
       "    <tr style=\"text-align: right;\">\n",
       "      <th></th>\n",
       "      <th>Project</th>\n",
       "      <th>Task</th>\n",
       "      <th>Demand</th>\n",
       "      <th>Assigned(Hours)</th>\n",
       "      <th>% Assigned</th>\n",
       "    </tr>\n",
       "  </thead>\n",
       "  <tbody>\n",
       "    <tr>\n",
       "      <th>0</th>\n",
       "      <td>CE Babilônia Centro</td>\n",
       "      <td>Campo - Mapeamento de Stakeholders</td>\n",
       "      <td>40</td>\n",
       "      <td>40</td>\n",
       "      <td>100.0</td>\n",
       "    </tr>\n",
       "    <tr>\n",
       "      <th>1</th>\n",
       "      <td>CE Babilônia Centro</td>\n",
       "      <td>Diagnóstico de Mapeamento</td>\n",
       "      <td>128</td>\n",
       "      <td>128</td>\n",
       "      <td>100.0</td>\n",
       "    </tr>\n",
       "    <tr>\n",
       "      <th>2</th>\n",
       "      <td>CE Babilônia Centro</td>\n",
       "      <td>Itemização de Relatório</td>\n",
       "      <td>6</td>\n",
       "      <td>6</td>\n",
       "      <td>100.0</td>\n",
       "    </tr>\n",
       "    <tr>\n",
       "      <th>3</th>\n",
       "      <td>CE Babilônia Centro</td>\n",
       "      <td>Programas PBA LT</td>\n",
       "      <td>16</td>\n",
       "      <td>16</td>\n",
       "      <td>100.0</td>\n",
       "    </tr>\n",
       "    <tr>\n",
       "      <th>4</th>\n",
       "      <td>CE Babilônia Centro</td>\n",
       "      <td>Reuniões Comunitárias</td>\n",
       "      <td>24</td>\n",
       "      <td>24</td>\n",
       "      <td>100.0</td>\n",
       "    </tr>\n",
       "    <tr>\n",
       "      <th>5</th>\n",
       "      <td>CE Babilônia Centro</td>\n",
       "      <td>Revisão Final do Mapeamento</td>\n",
       "      <td>16</td>\n",
       "      <td>16</td>\n",
       "      <td>100.0</td>\n",
       "    </tr>\n",
       "    <tr>\n",
       "      <th>6</th>\n",
       "      <td>CE Cajuina 5L</td>\n",
       "      <td>Revisão Inventário Turístico</td>\n",
       "      <td>4</td>\n",
       "      <td>4</td>\n",
       "      <td>100.0</td>\n",
       "    </tr>\n",
       "    <tr>\n",
       "      <th>7</th>\n",
       "      <td>CE Cajuina A</td>\n",
       "      <td>Diagnóstico PMIS</td>\n",
       "      <td>24</td>\n",
       "      <td>24</td>\n",
       "      <td>100.0</td>\n",
       "    </tr>\n",
       "    <tr>\n",
       "      <th>8</th>\n",
       "      <td>CE Queimada Nova IV</td>\n",
       "      <td>Diagnóstico de ADA</td>\n",
       "      <td>8</td>\n",
       "      <td>8</td>\n",
       "      <td>100.0</td>\n",
       "    </tr>\n",
       "    <tr>\n",
       "      <th>9</th>\n",
       "      <td>CE Queimada Nova IV</td>\n",
       "      <td>Revisão AIA/RIMA/Programas</td>\n",
       "      <td>8</td>\n",
       "      <td>8</td>\n",
       "      <td>100.0</td>\n",
       "    </tr>\n",
       "    <tr>\n",
       "      <th>10</th>\n",
       "      <td>CE Queimada Nova IV</td>\n",
       "      <td>Análise Integrada</td>\n",
       "      <td>4</td>\n",
       "      <td>4</td>\n",
       "      <td>100.0</td>\n",
       "    </tr>\n",
       "    <tr>\n",
       "      <th>11</th>\n",
       "      <td>CE Rio do Vento Expansão</td>\n",
       "      <td>Diagnóstico PMIS</td>\n",
       "      <td>32</td>\n",
       "      <td>32</td>\n",
       "      <td>100.0</td>\n",
       "    </tr>\n",
       "    <tr>\n",
       "      <th>12</th>\n",
       "      <td>CE Serra do Tigre</td>\n",
       "      <td>Relatório de Edificações</td>\n",
       "      <td>32</td>\n",
       "      <td>32</td>\n",
       "      <td>100.0</td>\n",
       "    </tr>\n",
       "    <tr>\n",
       "      <th>13</th>\n",
       "      <td>LT Assuruá 6</td>\n",
       "      <td>Avaliação de Impactos</td>\n",
       "      <td>8</td>\n",
       "      <td>8</td>\n",
       "      <td>100.0</td>\n",
       "    </tr>\n",
       "    <tr>\n",
       "      <th>14</th>\n",
       "      <td>LT Assuruá 6</td>\n",
       "      <td>Diagnóstico de AII/AID</td>\n",
       "      <td>8</td>\n",
       "      <td>8</td>\n",
       "      <td>100.0</td>\n",
       "    </tr>\n",
       "    <tr>\n",
       "      <th>15</th>\n",
       "      <td>LT Assuruá 6</td>\n",
       "      <td>Prognóstico</td>\n",
       "      <td>4</td>\n",
       "      <td>4</td>\n",
       "      <td>100.0</td>\n",
       "    </tr>\n",
       "    <tr>\n",
       "      <th>16</th>\n",
       "      <td>LT Assuruá 6</td>\n",
       "      <td>Programas</td>\n",
       "      <td>16</td>\n",
       "      <td>16</td>\n",
       "      <td>100.0</td>\n",
       "    </tr>\n",
       "    <tr>\n",
       "      <th>17</th>\n",
       "      <td>LT Sento Sé I, II e Ourolândia</td>\n",
       "      <td>Elaboração de Material Gráfico</td>\n",
       "      <td>8</td>\n",
       "      <td>8</td>\n",
       "      <td>100.0</td>\n",
       "    </tr>\n",
       "    <tr>\n",
       "      <th>18</th>\n",
       "      <td>LT Sento Sé I, II e Ourolândia</td>\n",
       "      <td>Reuniões Comunitárias</td>\n",
       "      <td>16</td>\n",
       "      <td>16</td>\n",
       "      <td>100.0</td>\n",
       "    </tr>\n",
       "    <tr>\n",
       "      <th>19</th>\n",
       "      <td>UFV Oliveira dos Brejinhos</td>\n",
       "      <td>Mobilização de Campo</td>\n",
       "      <td>4</td>\n",
       "      <td>4</td>\n",
       "      <td>100.0</td>\n",
       "    </tr>\n",
       "    <tr>\n",
       "      <th>20</th>\n",
       "      <td>UFV Rio do Vento I</td>\n",
       "      <td>RAC IRDPA</td>\n",
       "      <td>32</td>\n",
       "      <td>32</td>\n",
       "      <td>100.0</td>\n",
       "    </tr>\n",
       "  </tbody>\n",
       "</table>\n",
       "</div>"
      ],
      "text/plain": [
       "                           Project                                Task  \\\n",
       "0              CE Babilônia Centro  Campo - Mapeamento de Stakeholders   \n",
       "1              CE Babilônia Centro           Diagnóstico de Mapeamento   \n",
       "2              CE Babilônia Centro             Itemização de Relatório   \n",
       "3              CE Babilônia Centro                    Programas PBA LT   \n",
       "4              CE Babilônia Centro               Reuniões Comunitárias   \n",
       "5              CE Babilônia Centro         Revisão Final do Mapeamento   \n",
       "6                    CE Cajuina 5L        Revisão Inventário Turístico   \n",
       "7                     CE Cajuina A                    Diagnóstico PMIS   \n",
       "8              CE Queimada Nova IV                  Diagnóstico de ADA   \n",
       "9              CE Queimada Nova IV          Revisão AIA/RIMA/Programas   \n",
       "10             CE Queimada Nova IV                   Análise Integrada   \n",
       "11        CE Rio do Vento Expansão                    Diagnóstico PMIS   \n",
       "12               CE Serra do Tigre            Relatório de Edificações   \n",
       "13                    LT Assuruá 6               Avaliação de Impactos   \n",
       "14                    LT Assuruá 6              Diagnóstico de AII/AID   \n",
       "15                    LT Assuruá 6                         Prognóstico   \n",
       "16                    LT Assuruá 6                           Programas   \n",
       "17  LT Sento Sé I, II e Ourolândia      Elaboração de Material Gráfico   \n",
       "18  LT Sento Sé I, II e Ourolândia               Reuniões Comunitárias   \n",
       "19      UFV Oliveira dos Brejinhos                Mobilização de Campo   \n",
       "20              UFV Rio do Vento I                           RAC IRDPA   \n",
       "\n",
       "    Demand  Assigned(Hours)  % Assigned  \n",
       "0       40               40       100.0  \n",
       "1      128              128       100.0  \n",
       "2        6                6       100.0  \n",
       "3       16               16       100.0  \n",
       "4       24               24       100.0  \n",
       "5       16               16       100.0  \n",
       "6        4                4       100.0  \n",
       "7       24               24       100.0  \n",
       "8        8                8       100.0  \n",
       "9        8                8       100.0  \n",
       "10       4                4       100.0  \n",
       "11      32               32       100.0  \n",
       "12      32               32       100.0  \n",
       "13       8                8       100.0  \n",
       "14       8                8       100.0  \n",
       "15       4                4       100.0  \n",
       "16      16               16       100.0  \n",
       "17       8                8       100.0  \n",
       "18      16               16       100.0  \n",
       "19       4                4       100.0  \n",
       "20      32               32       100.0  "
      ]
     },
     "execution_count": 79,
     "metadata": {},
     "output_type": "execute_result"
    }
   ],
   "source": [
    "report1 = df.loc[:,['project','task', 'demand', 'total_hours']].groupby(['project', 'task']).agg({'demand': 'first', 'total_hours':'sum'}).sort_values(by=['project']).reset_index()\n",
    "\n",
    "report1['% Assigned'] = report1['total_hours']/report1['demand']*100\n",
    "\n",
    "report1 = report1.rename(columns={'project':'Project','task':'Task','demand':'Demand', 'total_hours':'Assigned(Hours)'}, errors='raise')\n",
    "\n",
    "report1"
   ]
  },
  {
   "cell_type": "code",
   "execution_count": null,
   "id": "17f0608c",
   "metadata": {},
   "outputs": [],
   "source": []
  },
  {
   "cell_type": "code",
   "execution_count": 80,
   "id": "c8042992-2611-4cba-8e55-66550f188217",
   "metadata": {
    "tags": []
   },
   "outputs": [
    {
     "data": {
      "text/html": [
       "<div>\n",
       "<style scoped>\n",
       "    .dataframe tbody tr th:only-of-type {\n",
       "        vertical-align: middle;\n",
       "    }\n",
       "\n",
       "    .dataframe tbody tr th {\n",
       "        vertical-align: top;\n",
       "    }\n",
       "\n",
       "    .dataframe thead th {\n",
       "        text-align: right;\n",
       "    }\n",
       "</style>\n",
       "<table border=\"1\" class=\"dataframe\">\n",
       "  <thead>\n",
       "    <tr style=\"text-align: right;\">\n",
       "      <th></th>\n",
       "      <th>Project</th>\n",
       "      <th>Task</th>\n",
       "      <th>Demand</th>\n",
       "    </tr>\n",
       "  </thead>\n",
       "  <tbody>\n",
       "    <tr>\n",
       "      <th>0</th>\n",
       "      <td>CE Serra do Tigre</td>\n",
       "      <td>Relatório de Edificações</td>\n",
       "      <td>32</td>\n",
       "    </tr>\n",
       "    <tr>\n",
       "      <th>1</th>\n",
       "      <td>CE Cajuina A</td>\n",
       "      <td>Diagnóstico PMIS</td>\n",
       "      <td>24</td>\n",
       "    </tr>\n",
       "    <tr>\n",
       "      <th>2</th>\n",
       "      <td>UFV Oliveira dos Brejinhos</td>\n",
       "      <td>Mobilização de Campo</td>\n",
       "      <td>4</td>\n",
       "    </tr>\n",
       "    <tr>\n",
       "      <th>3</th>\n",
       "      <td>CE Babilônia Centro</td>\n",
       "      <td>Programas PBA LT</td>\n",
       "      <td>16</td>\n",
       "    </tr>\n",
       "    <tr>\n",
       "      <th>4</th>\n",
       "      <td>CE Rio do Vento Expansão</td>\n",
       "      <td>Diagnóstico PMIS</td>\n",
       "      <td>32</td>\n",
       "    </tr>\n",
       "    <tr>\n",
       "      <th>5</th>\n",
       "      <td>CE Queimada Nova IV</td>\n",
       "      <td>Diagnóstico de ADA</td>\n",
       "      <td>8</td>\n",
       "    </tr>\n",
       "    <tr>\n",
       "      <th>6</th>\n",
       "      <td>CE Queimada Nova IV</td>\n",
       "      <td>Análise Integrada</td>\n",
       "      <td>4</td>\n",
       "    </tr>\n",
       "    <tr>\n",
       "      <th>7</th>\n",
       "      <td>CE Queimada Nova IV</td>\n",
       "      <td>Revisão AIA/RIMA/Programas</td>\n",
       "      <td>8</td>\n",
       "    </tr>\n",
       "    <tr>\n",
       "      <th>8</th>\n",
       "      <td>CE Cajuina 5L</td>\n",
       "      <td>Revisão Inventário Turístico</td>\n",
       "      <td>4</td>\n",
       "    </tr>\n",
       "    <tr>\n",
       "      <th>9</th>\n",
       "      <td>CE Cajuina 5L</td>\n",
       "      <td>Revisão Itens</td>\n",
       "      <td>8</td>\n",
       "    </tr>\n",
       "    <tr>\n",
       "      <th>10</th>\n",
       "      <td>CE Babilônia Centro</td>\n",
       "      <td>Campo - Mapeamento de Stakeholders</td>\n",
       "      <td>40</td>\n",
       "    </tr>\n",
       "    <tr>\n",
       "      <th>11</th>\n",
       "      <td>CE Babilônia Centro</td>\n",
       "      <td>Diagnóstico de Mapeamento</td>\n",
       "      <td>128</td>\n",
       "    </tr>\n",
       "    <tr>\n",
       "      <th>12</th>\n",
       "      <td>CE Babilônia Centro</td>\n",
       "      <td>Reuniões Comunitárias</td>\n",
       "      <td>24</td>\n",
       "    </tr>\n",
       "    <tr>\n",
       "      <th>13</th>\n",
       "      <td>CE Babilônia Centro</td>\n",
       "      <td>Revisão Final do Mapeamento</td>\n",
       "      <td>16</td>\n",
       "    </tr>\n",
       "    <tr>\n",
       "      <th>14</th>\n",
       "      <td>UFV Rio do Vento I</td>\n",
       "      <td>RAC IRDPA</td>\n",
       "      <td>32</td>\n",
       "    </tr>\n",
       "    <tr>\n",
       "      <th>15</th>\n",
       "      <td>LT Assuruá 6</td>\n",
       "      <td>Diagnóstico de AII/AID</td>\n",
       "      <td>8</td>\n",
       "    </tr>\n",
       "    <tr>\n",
       "      <th>16</th>\n",
       "      <td>LT Assuruá 6</td>\n",
       "      <td>Prognóstico</td>\n",
       "      <td>4</td>\n",
       "    </tr>\n",
       "    <tr>\n",
       "      <th>17</th>\n",
       "      <td>LT Assuruá 6</td>\n",
       "      <td>Avaliação de Impactos</td>\n",
       "      <td>8</td>\n",
       "    </tr>\n",
       "    <tr>\n",
       "      <th>18</th>\n",
       "      <td>LT Assuruá 6</td>\n",
       "      <td>Programas</td>\n",
       "      <td>16</td>\n",
       "    </tr>\n",
       "    <tr>\n",
       "      <th>19</th>\n",
       "      <td>UFV Oliveira dos Brejinhos</td>\n",
       "      <td>Campo</td>\n",
       "      <td>80</td>\n",
       "    </tr>\n",
       "    <tr>\n",
       "      <th>20</th>\n",
       "      <td>LT Sento Sé I, II e Ourolândia</td>\n",
       "      <td>Campo - DRP</td>\n",
       "      <td>48</td>\n",
       "    </tr>\n",
       "    <tr>\n",
       "      <th>21</th>\n",
       "      <td>LT Sento Sé I, II e Ourolândia</td>\n",
       "      <td>Elaborar Relatório</td>\n",
       "      <td>64</td>\n",
       "    </tr>\n",
       "    <tr>\n",
       "      <th>22</th>\n",
       "      <td>LT Sento Sé I, II e Ourolândia</td>\n",
       "      <td>Reuniões Comunitárias</td>\n",
       "      <td>16</td>\n",
       "    </tr>\n",
       "    <tr>\n",
       "      <th>23</th>\n",
       "      <td>LT Sento Sé I, II e Ourolândia</td>\n",
       "      <td>Elaboração de Material Gráfico</td>\n",
       "      <td>8</td>\n",
       "    </tr>\n",
       "    <tr>\n",
       "      <th>24</th>\n",
       "      <td>CE São José do Campestre</td>\n",
       "      <td>Diagnóstico de AII</td>\n",
       "      <td>40</td>\n",
       "    </tr>\n",
       "    <tr>\n",
       "      <th>25</th>\n",
       "      <td>CE São José do Campestre</td>\n",
       "      <td>Diagnóstico de AID</td>\n",
       "      <td>40</td>\n",
       "    </tr>\n",
       "    <tr>\n",
       "      <th>26</th>\n",
       "      <td>CE São José do Campestre</td>\n",
       "      <td>Prognóstico</td>\n",
       "      <td>4</td>\n",
       "    </tr>\n",
       "    <tr>\n",
       "      <th>27</th>\n",
       "      <td>CE São José do Campestre</td>\n",
       "      <td>Avaliação de Impactos</td>\n",
       "      <td>24</td>\n",
       "    </tr>\n",
       "    <tr>\n",
       "      <th>28</th>\n",
       "      <td>CE São José do Campestre</td>\n",
       "      <td>Programas</td>\n",
       "      <td>24</td>\n",
       "    </tr>\n",
       "    <tr>\n",
       "      <th>29</th>\n",
       "      <td>CE São José do Campestre</td>\n",
       "      <td>Análise Integrada</td>\n",
       "      <td>4</td>\n",
       "    </tr>\n",
       "    <tr>\n",
       "      <th>30</th>\n",
       "      <td>CE São José do Campestre</td>\n",
       "      <td>RIMA</td>\n",
       "      <td>8</td>\n",
       "    </tr>\n",
       "    <tr>\n",
       "      <th>31</th>\n",
       "      <td>CE Babilônia Centro</td>\n",
       "      <td>Itemização de Relatório</td>\n",
       "      <td>6</td>\n",
       "    </tr>\n",
       "  </tbody>\n",
       "</table>\n",
       "</div>"
      ],
      "text/plain": [
       "                           Project                                Task  Demand\n",
       "0                CE Serra do Tigre            Relatório de Edificações      32\n",
       "1                     CE Cajuina A                    Diagnóstico PMIS      24\n",
       "2       UFV Oliveira dos Brejinhos                Mobilização de Campo       4\n",
       "3              CE Babilônia Centro                    Programas PBA LT      16\n",
       "4         CE Rio do Vento Expansão                    Diagnóstico PMIS      32\n",
       "5              CE Queimada Nova IV                  Diagnóstico de ADA       8\n",
       "6              CE Queimada Nova IV                   Análise Integrada       4\n",
       "7              CE Queimada Nova IV          Revisão AIA/RIMA/Programas       8\n",
       "8                    CE Cajuina 5L        Revisão Inventário Turístico       4\n",
       "9                    CE Cajuina 5L                       Revisão Itens       8\n",
       "10             CE Babilônia Centro  Campo - Mapeamento de Stakeholders      40\n",
       "11             CE Babilônia Centro           Diagnóstico de Mapeamento     128\n",
       "12             CE Babilônia Centro               Reuniões Comunitárias      24\n",
       "13             CE Babilônia Centro         Revisão Final do Mapeamento      16\n",
       "14              UFV Rio do Vento I                           RAC IRDPA      32\n",
       "15                    LT Assuruá 6              Diagnóstico de AII/AID       8\n",
       "16                    LT Assuruá 6                         Prognóstico       4\n",
       "17                    LT Assuruá 6               Avaliação de Impactos       8\n",
       "18                    LT Assuruá 6                           Programas      16\n",
       "19      UFV Oliveira dos Brejinhos                               Campo      80\n",
       "20  LT Sento Sé I, II e Ourolândia                         Campo - DRP      48\n",
       "21  LT Sento Sé I, II e Ourolândia                  Elaborar Relatório      64\n",
       "22  LT Sento Sé I, II e Ourolândia               Reuniões Comunitárias      16\n",
       "23  LT Sento Sé I, II e Ourolândia      Elaboração de Material Gráfico       8\n",
       "24        CE São José do Campestre                  Diagnóstico de AII      40\n",
       "25        CE São José do Campestre                  Diagnóstico de AID      40\n",
       "26        CE São José do Campestre                         Prognóstico       4\n",
       "27        CE São José do Campestre               Avaliação de Impactos      24\n",
       "28        CE São José do Campestre                           Programas      24\n",
       "29        CE São José do Campestre                   Análise Integrada       4\n",
       "30        CE São José do Campestre                                RIMA       8\n",
       "31             CE Babilônia Centro             Itemização de Relatório       6"
      ]
     },
     "execution_count": 80,
     "metadata": {},
     "output_type": "execute_result"
    }
   ],
   "source": [
    "query = db.execute(\"SELECT projects.name Project, tasks.name Task, demand Demand FROM Tasks, Projects WHERE tasks.project_id = projects.id\")\n",
    "tasks = pd.DataFrame(query)\n",
    "\n",
    "result = pd.merge(report1, tasks, on=\"\")\n",
    "\n",
    "\n",
    "\n"
   ]
  },
  {
   "cell_type": "code",
   "execution_count": 61,
   "id": "a30afb40-918e-4d15-863c-5443b1b7530a",
   "metadata": {
    "tags": []
   },
   "outputs": [
    {
     "data": {
      "application/vnd.plotly.v1+json": {
       "config": {
        "plotlyServerURL": "https://plot.ly"
       },
       "data": [
        {
         "cells": {
          "values": [
           [
            "CE Babilônia Centro",
            "CE Babilônia Centro",
            "CE Babilônia Centro",
            "CE Babilônia Centro",
            "CE Babilônia Centro",
            "CE Babilônia Centro",
            "CE Cajuina 5L",
            "CE Cajuina A",
            "CE Queimada Nova IV",
            "CE Queimada Nova IV",
            "CE Queimada Nova IV",
            "CE Rio do Vento Expansão",
            "CE Serra do Tigre",
            "LT Assuruá 6",
            "LT Assuruá 6",
            "LT Assuruá 6",
            "LT Assuruá 6",
            "LT Sento Sé I, II e Ourolândia",
            "LT Sento Sé I, II e Ourolândia",
            "UFV Oliveira dos Brejinhos",
            "UFV Rio do Vento I"
           ],
           [
            "Campo - Mapeamento de Stakeholders",
            "Diagnóstico de Mapeamento",
            "Itemização de Relatório",
            "Programas PBA LT",
            "Reuniões Comunitárias",
            "Revisão Final do Mapeamento",
            "Revisão Inventário Turístico",
            "Diagnóstico PMIS",
            "Diagnóstico de ADA",
            "Revisão AIA/RIMA/Programas",
            "Análise Integrada",
            "Diagnóstico PMIS",
            "Relatório de Edificações",
            "Avaliação de Impactos",
            "Diagnóstico de AII/AID",
            "Prognóstico",
            "Programas",
            "Elaboração de Material Gráfico",
            "Reuniões Comunitárias",
            "Mobilização de Campo",
            "RAC IRDPA"
           ],
           [
            40,
            128,
            6,
            16,
            24,
            16,
            4,
            24,
            8,
            8,
            4,
            32,
            32,
            8,
            8,
            4,
            16,
            8,
            16,
            4,
            32
           ],
           [
            40,
            128,
            6,
            16,
            24,
            16,
            4,
            24,
            8,
            8,
            4,
            32,
            32,
            8,
            8,
            4,
            16,
            8,
            16,
            4,
            32
           ],
           [
            100,
            100,
            100,
            100,
            100,
            100,
            100,
            100,
            100,
            100,
            100,
            100,
            100,
            100,
            100,
            100,
            100,
            100,
            100,
            100,
            100
           ]
          ]
         },
         "header": {
          "values": [
           "Project",
           "Task",
           "Start Date",
           "End Date",
           "Demand (Hours)",
           "Assigned (Hours)",
           "% Assigned"
          ]
         },
         "type": "table"
        }
       ],
       "layout": {
        "template": {
         "data": {
          "bar": [
           {
            "error_x": {
             "color": "#f2f5fa"
            },
            "error_y": {
             "color": "#f2f5fa"
            },
            "marker": {
             "line": {
              "color": "rgb(17,17,17)",
              "width": 0.5
             },
             "pattern": {
              "fillmode": "overlay",
              "size": 10,
              "solidity": 0.2
             }
            },
            "type": "bar"
           }
          ],
          "barpolar": [
           {
            "marker": {
             "line": {
              "color": "rgb(17,17,17)",
              "width": 0.5
             },
             "pattern": {
              "fillmode": "overlay",
              "size": 10,
              "solidity": 0.2
             }
            },
            "type": "barpolar"
           }
          ],
          "carpet": [
           {
            "aaxis": {
             "endlinecolor": "#A2B1C6",
             "gridcolor": "#506784",
             "linecolor": "#506784",
             "minorgridcolor": "#506784",
             "startlinecolor": "#A2B1C6"
            },
            "baxis": {
             "endlinecolor": "#A2B1C6",
             "gridcolor": "#506784",
             "linecolor": "#506784",
             "minorgridcolor": "#506784",
             "startlinecolor": "#A2B1C6"
            },
            "type": "carpet"
           }
          ],
          "choropleth": [
           {
            "colorbar": {
             "outlinewidth": 0,
             "ticks": ""
            },
            "type": "choropleth"
           }
          ],
          "contour": [
           {
            "colorbar": {
             "outlinewidth": 0,
             "ticks": ""
            },
            "colorscale": [
             [
              0,
              "#0d0887"
             ],
             [
              0.1111111111111111,
              "#46039f"
             ],
             [
              0.2222222222222222,
              "#7201a8"
             ],
             [
              0.3333333333333333,
              "#9c179e"
             ],
             [
              0.4444444444444444,
              "#bd3786"
             ],
             [
              0.5555555555555556,
              "#d8576b"
             ],
             [
              0.6666666666666666,
              "#ed7953"
             ],
             [
              0.7777777777777778,
              "#fb9f3a"
             ],
             [
              0.8888888888888888,
              "#fdca26"
             ],
             [
              1,
              "#f0f921"
             ]
            ],
            "type": "contour"
           }
          ],
          "contourcarpet": [
           {
            "colorbar": {
             "outlinewidth": 0,
             "ticks": ""
            },
            "type": "contourcarpet"
           }
          ],
          "heatmap": [
           {
            "colorbar": {
             "outlinewidth": 0,
             "ticks": ""
            },
            "colorscale": [
             [
              0,
              "#0d0887"
             ],
             [
              0.1111111111111111,
              "#46039f"
             ],
             [
              0.2222222222222222,
              "#7201a8"
             ],
             [
              0.3333333333333333,
              "#9c179e"
             ],
             [
              0.4444444444444444,
              "#bd3786"
             ],
             [
              0.5555555555555556,
              "#d8576b"
             ],
             [
              0.6666666666666666,
              "#ed7953"
             ],
             [
              0.7777777777777778,
              "#fb9f3a"
             ],
             [
              0.8888888888888888,
              "#fdca26"
             ],
             [
              1,
              "#f0f921"
             ]
            ],
            "type": "heatmap"
           }
          ],
          "heatmapgl": [
           {
            "colorbar": {
             "outlinewidth": 0,
             "ticks": ""
            },
            "colorscale": [
             [
              0,
              "#0d0887"
             ],
             [
              0.1111111111111111,
              "#46039f"
             ],
             [
              0.2222222222222222,
              "#7201a8"
             ],
             [
              0.3333333333333333,
              "#9c179e"
             ],
             [
              0.4444444444444444,
              "#bd3786"
             ],
             [
              0.5555555555555556,
              "#d8576b"
             ],
             [
              0.6666666666666666,
              "#ed7953"
             ],
             [
              0.7777777777777778,
              "#fb9f3a"
             ],
             [
              0.8888888888888888,
              "#fdca26"
             ],
             [
              1,
              "#f0f921"
             ]
            ],
            "type": "heatmapgl"
           }
          ],
          "histogram": [
           {
            "marker": {
             "pattern": {
              "fillmode": "overlay",
              "size": 10,
              "solidity": 0.2
             }
            },
            "type": "histogram"
           }
          ],
          "histogram2d": [
           {
            "colorbar": {
             "outlinewidth": 0,
             "ticks": ""
            },
            "colorscale": [
             [
              0,
              "#0d0887"
             ],
             [
              0.1111111111111111,
              "#46039f"
             ],
             [
              0.2222222222222222,
              "#7201a8"
             ],
             [
              0.3333333333333333,
              "#9c179e"
             ],
             [
              0.4444444444444444,
              "#bd3786"
             ],
             [
              0.5555555555555556,
              "#d8576b"
             ],
             [
              0.6666666666666666,
              "#ed7953"
             ],
             [
              0.7777777777777778,
              "#fb9f3a"
             ],
             [
              0.8888888888888888,
              "#fdca26"
             ],
             [
              1,
              "#f0f921"
             ]
            ],
            "type": "histogram2d"
           }
          ],
          "histogram2dcontour": [
           {
            "colorbar": {
             "outlinewidth": 0,
             "ticks": ""
            },
            "colorscale": [
             [
              0,
              "#0d0887"
             ],
             [
              0.1111111111111111,
              "#46039f"
             ],
             [
              0.2222222222222222,
              "#7201a8"
             ],
             [
              0.3333333333333333,
              "#9c179e"
             ],
             [
              0.4444444444444444,
              "#bd3786"
             ],
             [
              0.5555555555555556,
              "#d8576b"
             ],
             [
              0.6666666666666666,
              "#ed7953"
             ],
             [
              0.7777777777777778,
              "#fb9f3a"
             ],
             [
              0.8888888888888888,
              "#fdca26"
             ],
             [
              1,
              "#f0f921"
             ]
            ],
            "type": "histogram2dcontour"
           }
          ],
          "mesh3d": [
           {
            "colorbar": {
             "outlinewidth": 0,
             "ticks": ""
            },
            "type": "mesh3d"
           }
          ],
          "parcoords": [
           {
            "line": {
             "colorbar": {
              "outlinewidth": 0,
              "ticks": ""
             }
            },
            "type": "parcoords"
           }
          ],
          "pie": [
           {
            "automargin": true,
            "type": "pie"
           }
          ],
          "scatter": [
           {
            "marker": {
             "line": {
              "color": "#283442"
             }
            },
            "type": "scatter"
           }
          ],
          "scatter3d": [
           {
            "line": {
             "colorbar": {
              "outlinewidth": 0,
              "ticks": ""
             }
            },
            "marker": {
             "colorbar": {
              "outlinewidth": 0,
              "ticks": ""
             }
            },
            "type": "scatter3d"
           }
          ],
          "scattercarpet": [
           {
            "marker": {
             "colorbar": {
              "outlinewidth": 0,
              "ticks": ""
             }
            },
            "type": "scattercarpet"
           }
          ],
          "scattergeo": [
           {
            "marker": {
             "colorbar": {
              "outlinewidth": 0,
              "ticks": ""
             }
            },
            "type": "scattergeo"
           }
          ],
          "scattergl": [
           {
            "marker": {
             "line": {
              "color": "#283442"
             }
            },
            "type": "scattergl"
           }
          ],
          "scattermapbox": [
           {
            "marker": {
             "colorbar": {
              "outlinewidth": 0,
              "ticks": ""
             }
            },
            "type": "scattermapbox"
           }
          ],
          "scatterpolar": [
           {
            "marker": {
             "colorbar": {
              "outlinewidth": 0,
              "ticks": ""
             }
            },
            "type": "scatterpolar"
           }
          ],
          "scatterpolargl": [
           {
            "marker": {
             "colorbar": {
              "outlinewidth": 0,
              "ticks": ""
             }
            },
            "type": "scatterpolargl"
           }
          ],
          "scatterternary": [
           {
            "marker": {
             "colorbar": {
              "outlinewidth": 0,
              "ticks": ""
             }
            },
            "type": "scatterternary"
           }
          ],
          "surface": [
           {
            "colorbar": {
             "outlinewidth": 0,
             "ticks": ""
            },
            "colorscale": [
             [
              0,
              "#0d0887"
             ],
             [
              0.1111111111111111,
              "#46039f"
             ],
             [
              0.2222222222222222,
              "#7201a8"
             ],
             [
              0.3333333333333333,
              "#9c179e"
             ],
             [
              0.4444444444444444,
              "#bd3786"
             ],
             [
              0.5555555555555556,
              "#d8576b"
             ],
             [
              0.6666666666666666,
              "#ed7953"
             ],
             [
              0.7777777777777778,
              "#fb9f3a"
             ],
             [
              0.8888888888888888,
              "#fdca26"
             ],
             [
              1,
              "#f0f921"
             ]
            ],
            "type": "surface"
           }
          ],
          "table": [
           {
            "cells": {
             "fill": {
              "color": "#506784"
             },
             "line": {
              "color": "rgb(17,17,17)"
             }
            },
            "header": {
             "fill": {
              "color": "#2a3f5f"
             },
             "line": {
              "color": "rgb(17,17,17)"
             }
            },
            "type": "table"
           }
          ]
         },
         "layout": {
          "annotationdefaults": {
           "arrowcolor": "#f2f5fa",
           "arrowhead": 0,
           "arrowwidth": 1
          },
          "autotypenumbers": "strict",
          "coloraxis": {
           "colorbar": {
            "outlinewidth": 0,
            "ticks": ""
           }
          },
          "colorscale": {
           "diverging": [
            [
             0,
             "#8e0152"
            ],
            [
             0.1,
             "#c51b7d"
            ],
            [
             0.2,
             "#de77ae"
            ],
            [
             0.3,
             "#f1b6da"
            ],
            [
             0.4,
             "#fde0ef"
            ],
            [
             0.5,
             "#f7f7f7"
            ],
            [
             0.6,
             "#e6f5d0"
            ],
            [
             0.7,
             "#b8e186"
            ],
            [
             0.8,
             "#7fbc41"
            ],
            [
             0.9,
             "#4d9221"
            ],
            [
             1,
             "#276419"
            ]
           ],
           "sequential": [
            [
             0,
             "#0d0887"
            ],
            [
             0.1111111111111111,
             "#46039f"
            ],
            [
             0.2222222222222222,
             "#7201a8"
            ],
            [
             0.3333333333333333,
             "#9c179e"
            ],
            [
             0.4444444444444444,
             "#bd3786"
            ],
            [
             0.5555555555555556,
             "#d8576b"
            ],
            [
             0.6666666666666666,
             "#ed7953"
            ],
            [
             0.7777777777777778,
             "#fb9f3a"
            ],
            [
             0.8888888888888888,
             "#fdca26"
            ],
            [
             1,
             "#f0f921"
            ]
           ],
           "sequentialminus": [
            [
             0,
             "#0d0887"
            ],
            [
             0.1111111111111111,
             "#46039f"
            ],
            [
             0.2222222222222222,
             "#7201a8"
            ],
            [
             0.3333333333333333,
             "#9c179e"
            ],
            [
             0.4444444444444444,
             "#bd3786"
            ],
            [
             0.5555555555555556,
             "#d8576b"
            ],
            [
             0.6666666666666666,
             "#ed7953"
            ],
            [
             0.7777777777777778,
             "#fb9f3a"
            ],
            [
             0.8888888888888888,
             "#fdca26"
            ],
            [
             1,
             "#f0f921"
            ]
           ]
          },
          "colorway": [
           "#636efa",
           "#EF553B",
           "#00cc96",
           "#ab63fa",
           "#FFA15A",
           "#19d3f3",
           "#FF6692",
           "#B6E880",
           "#FF97FF",
           "#FECB52"
          ],
          "font": {
           "color": "#f2f5fa"
          },
          "geo": {
           "bgcolor": "rgb(17,17,17)",
           "lakecolor": "rgb(17,17,17)",
           "landcolor": "rgb(17,17,17)",
           "showlakes": true,
           "showland": true,
           "subunitcolor": "#506784"
          },
          "hoverlabel": {
           "align": "left"
          },
          "hovermode": "closest",
          "mapbox": {
           "style": "dark"
          },
          "paper_bgcolor": "rgb(17,17,17)",
          "plot_bgcolor": "rgb(17,17,17)",
          "polar": {
           "angularaxis": {
            "gridcolor": "#506784",
            "linecolor": "#506784",
            "ticks": ""
           },
           "bgcolor": "rgb(17,17,17)",
           "radialaxis": {
            "gridcolor": "#506784",
            "linecolor": "#506784",
            "ticks": ""
           }
          },
          "scene": {
           "xaxis": {
            "backgroundcolor": "rgb(17,17,17)",
            "gridcolor": "#506784",
            "gridwidth": 2,
            "linecolor": "#506784",
            "showbackground": true,
            "ticks": "",
            "zerolinecolor": "#C8D4E3"
           },
           "yaxis": {
            "backgroundcolor": "rgb(17,17,17)",
            "gridcolor": "#506784",
            "gridwidth": 2,
            "linecolor": "#506784",
            "showbackground": true,
            "ticks": "",
            "zerolinecolor": "#C8D4E3"
           },
           "zaxis": {
            "backgroundcolor": "rgb(17,17,17)",
            "gridcolor": "#506784",
            "gridwidth": 2,
            "linecolor": "#506784",
            "showbackground": true,
            "ticks": "",
            "zerolinecolor": "#C8D4E3"
           }
          },
          "shapedefaults": {
           "line": {
            "color": "#f2f5fa"
           }
          },
          "sliderdefaults": {
           "bgcolor": "#C8D4E3",
           "bordercolor": "rgb(17,17,17)",
           "borderwidth": 1,
           "tickwidth": 0
          },
          "ternary": {
           "aaxis": {
            "gridcolor": "#506784",
            "linecolor": "#506784",
            "ticks": ""
           },
           "baxis": {
            "gridcolor": "#506784",
            "linecolor": "#506784",
            "ticks": ""
           },
           "bgcolor": "rgb(17,17,17)",
           "caxis": {
            "gridcolor": "#506784",
            "linecolor": "#506784",
            "ticks": ""
           }
          },
          "title": {
           "x": 0.05
          },
          "updatemenudefaults": {
           "bgcolor": "#506784",
           "borderwidth": 0
          },
          "xaxis": {
           "automargin": true,
           "gridcolor": "#283442",
           "linecolor": "#506784",
           "ticks": "",
           "title": {
            "standoff": 15
           },
           "zerolinecolor": "#283442",
           "zerolinewidth": 2
          },
          "yaxis": {
           "automargin": true,
           "gridcolor": "#283442",
           "linecolor": "#506784",
           "ticks": "",
           "title": {
            "standoff": 15
           },
           "zerolinecolor": "#283442",
           "zerolinewidth": 2
          }
         }
        }
       }
      }
     },
     "metadata": {},
     "output_type": "display_data"
    }
   ],
   "source": [
    "fig = go.Figure(data=[go.Table(\n",
    "    header=dict(values=['Project', 'Task', 'Start Date', 'End Date', 'Demand (Hours)', 'Assigned (Hours)', '% Assigned']),\n",
    "    cells=dict(values=report1.transpose().values.tolist()))\n",
    "])\n",
    "\n",
    "fig.update_layout(\n",
    "        template='plotly_dark',\n",
    "    )\n",
    "\n",
    "fig.show()"
   ]
  },
  {
   "cell_type": "code",
   "execution_count": 62,
   "id": "854abff8-1fd0-4a17-9b40-351e898796af",
   "metadata": {
    "tags": []
   },
   "outputs": [
    {
     "data": {
      "application/vnd.plotly.v1+json": {
       "config": {
        "plotlyServerURL": "https://plot.ly"
       },
       "data": [
        {
         "alignmentgroup": "True",
         "base": [
          "2023-03-29",
          "2023-03-29",
          "2023-03-29",
          "2023-03-31",
          "2023-03-30",
          "2023-04-03",
          "2023-03-29",
          "2023-03-30",
          "2023-03-30",
          "2023-04-03",
          "2023-03-29",
          "2023-04-10",
          "2023-04-10",
          "2023-05-03",
          "2023-05-08",
          "2023-04-03",
          "2023-04-06",
          "2023-04-10",
          "2023-04-11",
          "2023-04-12",
          "2023-05-06",
          "2023-04-04",
          "2023-04-05"
         ],
         "hovertemplate": "team=Socio<br>start_date=%{base}<br>end_date=%{x}<br>task=%{y}<extra></extra>",
         "legendgroup": "Socio",
         "marker": {
          "color": "#636efa",
          "pattern": {
           "shape": ""
          }
         },
         "name": "Socio",
         "offsetgroup": "Socio",
         "orientation": "h",
         "showlegend": true,
         "textposition": "auto",
         "type": "bar",
         "x": [
          86400000,
          86400000,
          172800000,
          0,
          86400000,
          259200000,
          0,
          0,
          86400000,
          0,
          518400000,
          777600000,
          777600000,
          172800000,
          86400000,
          259200000,
          0,
          0,
          0,
          86400000,
          259200000,
          0,
          0
         ],
         "xaxis": "x",
         "y": [
          "Relatório de Edificações",
          "Relatório de Edificações",
          "Diagnóstico PMIS",
          "Mobilização de Campo",
          "Programas PBA LT",
          "Diagnóstico PMIS",
          "Diagnóstico de ADA",
          "Análise Integrada",
          "Revisão AIA/RIMA/Programas",
          "Revisão Inventário Turístico",
          "Campo - Mapeamento de Stakeholders",
          "Diagnóstico de Mapeamento",
          "Diagnóstico de Mapeamento",
          "Reuniões Comunitárias",
          "Revisão Final do Mapeamento",
          "RAC IRDPA",
          "Diagnóstico de AII/AID",
          "Prognóstico",
          "Avaliação de Impactos",
          "Programas",
          "Reuniões Comunitárias",
          "Elaboração de Material Gráfico",
          "Itemização de Relatório"
         ],
         "yaxis": "y"
        }
       ],
       "layout": {
        "barmode": "overlay",
        "legend": {
         "title": {
          "text": "team"
         },
         "tracegroupgap": 0
        },
        "margin": {
         "t": 60
        },
        "template": {
         "data": {
          "bar": [
           {
            "error_x": {
             "color": "#f2f5fa"
            },
            "error_y": {
             "color": "#f2f5fa"
            },
            "marker": {
             "line": {
              "color": "rgb(17,17,17)",
              "width": 0.5
             },
             "pattern": {
              "fillmode": "overlay",
              "size": 10,
              "solidity": 0.2
             }
            },
            "type": "bar"
           }
          ],
          "barpolar": [
           {
            "marker": {
             "line": {
              "color": "rgb(17,17,17)",
              "width": 0.5
             },
             "pattern": {
              "fillmode": "overlay",
              "size": 10,
              "solidity": 0.2
             }
            },
            "type": "barpolar"
           }
          ],
          "carpet": [
           {
            "aaxis": {
             "endlinecolor": "#A2B1C6",
             "gridcolor": "#506784",
             "linecolor": "#506784",
             "minorgridcolor": "#506784",
             "startlinecolor": "#A2B1C6"
            },
            "baxis": {
             "endlinecolor": "#A2B1C6",
             "gridcolor": "#506784",
             "linecolor": "#506784",
             "minorgridcolor": "#506784",
             "startlinecolor": "#A2B1C6"
            },
            "type": "carpet"
           }
          ],
          "choropleth": [
           {
            "colorbar": {
             "outlinewidth": 0,
             "ticks": ""
            },
            "type": "choropleth"
           }
          ],
          "contour": [
           {
            "colorbar": {
             "outlinewidth": 0,
             "ticks": ""
            },
            "colorscale": [
             [
              0,
              "#0d0887"
             ],
             [
              0.1111111111111111,
              "#46039f"
             ],
             [
              0.2222222222222222,
              "#7201a8"
             ],
             [
              0.3333333333333333,
              "#9c179e"
             ],
             [
              0.4444444444444444,
              "#bd3786"
             ],
             [
              0.5555555555555556,
              "#d8576b"
             ],
             [
              0.6666666666666666,
              "#ed7953"
             ],
             [
              0.7777777777777778,
              "#fb9f3a"
             ],
             [
              0.8888888888888888,
              "#fdca26"
             ],
             [
              1,
              "#f0f921"
             ]
            ],
            "type": "contour"
           }
          ],
          "contourcarpet": [
           {
            "colorbar": {
             "outlinewidth": 0,
             "ticks": ""
            },
            "type": "contourcarpet"
           }
          ],
          "heatmap": [
           {
            "colorbar": {
             "outlinewidth": 0,
             "ticks": ""
            },
            "colorscale": [
             [
              0,
              "#0d0887"
             ],
             [
              0.1111111111111111,
              "#46039f"
             ],
             [
              0.2222222222222222,
              "#7201a8"
             ],
             [
              0.3333333333333333,
              "#9c179e"
             ],
             [
              0.4444444444444444,
              "#bd3786"
             ],
             [
              0.5555555555555556,
              "#d8576b"
             ],
             [
              0.6666666666666666,
              "#ed7953"
             ],
             [
              0.7777777777777778,
              "#fb9f3a"
             ],
             [
              0.8888888888888888,
              "#fdca26"
             ],
             [
              1,
              "#f0f921"
             ]
            ],
            "type": "heatmap"
           }
          ],
          "heatmapgl": [
           {
            "colorbar": {
             "outlinewidth": 0,
             "ticks": ""
            },
            "colorscale": [
             [
              0,
              "#0d0887"
             ],
             [
              0.1111111111111111,
              "#46039f"
             ],
             [
              0.2222222222222222,
              "#7201a8"
             ],
             [
              0.3333333333333333,
              "#9c179e"
             ],
             [
              0.4444444444444444,
              "#bd3786"
             ],
             [
              0.5555555555555556,
              "#d8576b"
             ],
             [
              0.6666666666666666,
              "#ed7953"
             ],
             [
              0.7777777777777778,
              "#fb9f3a"
             ],
             [
              0.8888888888888888,
              "#fdca26"
             ],
             [
              1,
              "#f0f921"
             ]
            ],
            "type": "heatmapgl"
           }
          ],
          "histogram": [
           {
            "marker": {
             "pattern": {
              "fillmode": "overlay",
              "size": 10,
              "solidity": 0.2
             }
            },
            "type": "histogram"
           }
          ],
          "histogram2d": [
           {
            "colorbar": {
             "outlinewidth": 0,
             "ticks": ""
            },
            "colorscale": [
             [
              0,
              "#0d0887"
             ],
             [
              0.1111111111111111,
              "#46039f"
             ],
             [
              0.2222222222222222,
              "#7201a8"
             ],
             [
              0.3333333333333333,
              "#9c179e"
             ],
             [
              0.4444444444444444,
              "#bd3786"
             ],
             [
              0.5555555555555556,
              "#d8576b"
             ],
             [
              0.6666666666666666,
              "#ed7953"
             ],
             [
              0.7777777777777778,
              "#fb9f3a"
             ],
             [
              0.8888888888888888,
              "#fdca26"
             ],
             [
              1,
              "#f0f921"
             ]
            ],
            "type": "histogram2d"
           }
          ],
          "histogram2dcontour": [
           {
            "colorbar": {
             "outlinewidth": 0,
             "ticks": ""
            },
            "colorscale": [
             [
              0,
              "#0d0887"
             ],
             [
              0.1111111111111111,
              "#46039f"
             ],
             [
              0.2222222222222222,
              "#7201a8"
             ],
             [
              0.3333333333333333,
              "#9c179e"
             ],
             [
              0.4444444444444444,
              "#bd3786"
             ],
             [
              0.5555555555555556,
              "#d8576b"
             ],
             [
              0.6666666666666666,
              "#ed7953"
             ],
             [
              0.7777777777777778,
              "#fb9f3a"
             ],
             [
              0.8888888888888888,
              "#fdca26"
             ],
             [
              1,
              "#f0f921"
             ]
            ],
            "type": "histogram2dcontour"
           }
          ],
          "mesh3d": [
           {
            "colorbar": {
             "outlinewidth": 0,
             "ticks": ""
            },
            "type": "mesh3d"
           }
          ],
          "parcoords": [
           {
            "line": {
             "colorbar": {
              "outlinewidth": 0,
              "ticks": ""
             }
            },
            "type": "parcoords"
           }
          ],
          "pie": [
           {
            "automargin": true,
            "type": "pie"
           }
          ],
          "scatter": [
           {
            "marker": {
             "line": {
              "color": "#283442"
             }
            },
            "type": "scatter"
           }
          ],
          "scatter3d": [
           {
            "line": {
             "colorbar": {
              "outlinewidth": 0,
              "ticks": ""
             }
            },
            "marker": {
             "colorbar": {
              "outlinewidth": 0,
              "ticks": ""
             }
            },
            "type": "scatter3d"
           }
          ],
          "scattercarpet": [
           {
            "marker": {
             "colorbar": {
              "outlinewidth": 0,
              "ticks": ""
             }
            },
            "type": "scattercarpet"
           }
          ],
          "scattergeo": [
           {
            "marker": {
             "colorbar": {
              "outlinewidth": 0,
              "ticks": ""
             }
            },
            "type": "scattergeo"
           }
          ],
          "scattergl": [
           {
            "marker": {
             "line": {
              "color": "#283442"
             }
            },
            "type": "scattergl"
           }
          ],
          "scattermapbox": [
           {
            "marker": {
             "colorbar": {
              "outlinewidth": 0,
              "ticks": ""
             }
            },
            "type": "scattermapbox"
           }
          ],
          "scatterpolar": [
           {
            "marker": {
             "colorbar": {
              "outlinewidth": 0,
              "ticks": ""
             }
            },
            "type": "scatterpolar"
           }
          ],
          "scatterpolargl": [
           {
            "marker": {
             "colorbar": {
              "outlinewidth": 0,
              "ticks": ""
             }
            },
            "type": "scatterpolargl"
           }
          ],
          "scatterternary": [
           {
            "marker": {
             "colorbar": {
              "outlinewidth": 0,
              "ticks": ""
             }
            },
            "type": "scatterternary"
           }
          ],
          "surface": [
           {
            "colorbar": {
             "outlinewidth": 0,
             "ticks": ""
            },
            "colorscale": [
             [
              0,
              "#0d0887"
             ],
             [
              0.1111111111111111,
              "#46039f"
             ],
             [
              0.2222222222222222,
              "#7201a8"
             ],
             [
              0.3333333333333333,
              "#9c179e"
             ],
             [
              0.4444444444444444,
              "#bd3786"
             ],
             [
              0.5555555555555556,
              "#d8576b"
             ],
             [
              0.6666666666666666,
              "#ed7953"
             ],
             [
              0.7777777777777778,
              "#fb9f3a"
             ],
             [
              0.8888888888888888,
              "#fdca26"
             ],
             [
              1,
              "#f0f921"
             ]
            ],
            "type": "surface"
           }
          ],
          "table": [
           {
            "cells": {
             "fill": {
              "color": "#506784"
             },
             "line": {
              "color": "rgb(17,17,17)"
             }
            },
            "header": {
             "fill": {
              "color": "#2a3f5f"
             },
             "line": {
              "color": "rgb(17,17,17)"
             }
            },
            "type": "table"
           }
          ]
         },
         "layout": {
          "annotationdefaults": {
           "arrowcolor": "#f2f5fa",
           "arrowhead": 0,
           "arrowwidth": 1
          },
          "autotypenumbers": "strict",
          "coloraxis": {
           "colorbar": {
            "outlinewidth": 0,
            "ticks": ""
           }
          },
          "colorscale": {
           "diverging": [
            [
             0,
             "#8e0152"
            ],
            [
             0.1,
             "#c51b7d"
            ],
            [
             0.2,
             "#de77ae"
            ],
            [
             0.3,
             "#f1b6da"
            ],
            [
             0.4,
             "#fde0ef"
            ],
            [
             0.5,
             "#f7f7f7"
            ],
            [
             0.6,
             "#e6f5d0"
            ],
            [
             0.7,
             "#b8e186"
            ],
            [
             0.8,
             "#7fbc41"
            ],
            [
             0.9,
             "#4d9221"
            ],
            [
             1,
             "#276419"
            ]
           ],
           "sequential": [
            [
             0,
             "#0d0887"
            ],
            [
             0.1111111111111111,
             "#46039f"
            ],
            [
             0.2222222222222222,
             "#7201a8"
            ],
            [
             0.3333333333333333,
             "#9c179e"
            ],
            [
             0.4444444444444444,
             "#bd3786"
            ],
            [
             0.5555555555555556,
             "#d8576b"
            ],
            [
             0.6666666666666666,
             "#ed7953"
            ],
            [
             0.7777777777777778,
             "#fb9f3a"
            ],
            [
             0.8888888888888888,
             "#fdca26"
            ],
            [
             1,
             "#f0f921"
            ]
           ],
           "sequentialminus": [
            [
             0,
             "#0d0887"
            ],
            [
             0.1111111111111111,
             "#46039f"
            ],
            [
             0.2222222222222222,
             "#7201a8"
            ],
            [
             0.3333333333333333,
             "#9c179e"
            ],
            [
             0.4444444444444444,
             "#bd3786"
            ],
            [
             0.5555555555555556,
             "#d8576b"
            ],
            [
             0.6666666666666666,
             "#ed7953"
            ],
            [
             0.7777777777777778,
             "#fb9f3a"
            ],
            [
             0.8888888888888888,
             "#fdca26"
            ],
            [
             1,
             "#f0f921"
            ]
           ]
          },
          "colorway": [
           "#636efa",
           "#EF553B",
           "#00cc96",
           "#ab63fa",
           "#FFA15A",
           "#19d3f3",
           "#FF6692",
           "#B6E880",
           "#FF97FF",
           "#FECB52"
          ],
          "font": {
           "color": "#f2f5fa"
          },
          "geo": {
           "bgcolor": "rgb(17,17,17)",
           "lakecolor": "rgb(17,17,17)",
           "landcolor": "rgb(17,17,17)",
           "showlakes": true,
           "showland": true,
           "subunitcolor": "#506784"
          },
          "hoverlabel": {
           "align": "left"
          },
          "hovermode": "closest",
          "mapbox": {
           "style": "dark"
          },
          "paper_bgcolor": "rgb(17,17,17)",
          "plot_bgcolor": "rgb(17,17,17)",
          "polar": {
           "angularaxis": {
            "gridcolor": "#506784",
            "linecolor": "#506784",
            "ticks": ""
           },
           "bgcolor": "rgb(17,17,17)",
           "radialaxis": {
            "gridcolor": "#506784",
            "linecolor": "#506784",
            "ticks": ""
           }
          },
          "scene": {
           "xaxis": {
            "backgroundcolor": "rgb(17,17,17)",
            "gridcolor": "#506784",
            "gridwidth": 2,
            "linecolor": "#506784",
            "showbackground": true,
            "ticks": "",
            "zerolinecolor": "#C8D4E3"
           },
           "yaxis": {
            "backgroundcolor": "rgb(17,17,17)",
            "gridcolor": "#506784",
            "gridwidth": 2,
            "linecolor": "#506784",
            "showbackground": true,
            "ticks": "",
            "zerolinecolor": "#C8D4E3"
           },
           "zaxis": {
            "backgroundcolor": "rgb(17,17,17)",
            "gridcolor": "#506784",
            "gridwidth": 2,
            "linecolor": "#506784",
            "showbackground": true,
            "ticks": "",
            "zerolinecolor": "#C8D4E3"
           }
          },
          "shapedefaults": {
           "line": {
            "color": "#f2f5fa"
           }
          },
          "sliderdefaults": {
           "bgcolor": "#C8D4E3",
           "bordercolor": "rgb(17,17,17)",
           "borderwidth": 1,
           "tickwidth": 0
          },
          "ternary": {
           "aaxis": {
            "gridcolor": "#506784",
            "linecolor": "#506784",
            "ticks": ""
           },
           "baxis": {
            "gridcolor": "#506784",
            "linecolor": "#506784",
            "ticks": ""
           },
           "bgcolor": "rgb(17,17,17)",
           "caxis": {
            "gridcolor": "#506784",
            "linecolor": "#506784",
            "ticks": ""
           }
          },
          "title": {
           "x": 0.05
          },
          "updatemenudefaults": {
           "bgcolor": "#506784",
           "borderwidth": 0
          },
          "xaxis": {
           "automargin": true,
           "gridcolor": "#283442",
           "linecolor": "#506784",
           "ticks": "",
           "title": {
            "standoff": 15
           },
           "zerolinecolor": "#283442",
           "zerolinewidth": 2
          },
          "yaxis": {
           "automargin": true,
           "gridcolor": "#283442",
           "linecolor": "#506784",
           "ticks": "",
           "title": {
            "standoff": 15
           },
           "zerolinecolor": "#283442",
           "zerolinewidth": 2
          }
         }
        },
        "xaxis": {
         "anchor": "y",
         "domain": [
          0,
          1
         ],
         "type": "date"
        },
        "yaxis": {
         "anchor": "x",
         "autorange": "reversed",
         "domain": [
          0,
          1
         ],
         "title": {
          "text": "task"
         }
        }
       }
      }
     },
     "metadata": {},
     "output_type": "display_data"
    }
   ],
   "source": [
    "fig = px.timeline(df, x_start=\"start_date\", x_end=\"end_date\", y=\"task\", color='team')\n",
    "fig.update_yaxes(autorange=\"reversed\") # otherwise tasks are listed from the bottom up\n",
    "fig.layout.template = 'plotly_dark'\n",
    "fig.show()"
   ]
  },
  {
   "cell_type": "code",
   "execution_count": 63,
   "id": "1615efcb-ff18-4a94-b5b7-784f7ed77986",
   "metadata": {
    "tags": []
   },
   "outputs": [],
   "source": [
    "dates = pd.bdate_range(df.start_date.min(), df.end_date.max())\n",
    "\n",
    "demand = pd.DataFrame(\n",
    "    columns = df.team.unique(),\n",
    "    index = dates).fillna(0)\n",
    "\n",
    "demand = demand.rename_axis(\"team\", axis=\"columns\")\n",
    "\n",
    "capacity = pd.DataFrame(\n",
    "    columns = df.team.unique(),\n",
    "    index = dates).fillna(0)\n",
    "\n",
    "capacity = capacity.rename_axis('team', axis='columns')\n",
    "\n",
    "for index, row in df.iterrows():\n",
    "    demand.loc[row['start_date']:row['end_date'], row.team] += row.hours_day;\n",
    "    \n",
    "demand['Assigned'] = 0\n",
    "demand['Assigned'] = demand.sum(axis=1)\n",
    "    \n",
    "people = pd.DataFrame(db.execute('SELECT teams.name team, people.name FROM people, teams WHERE team_id = teams.id'))\n",
    "\n",
    "for team in df.team.unique():\n",
    "    capacity[team] = people[people.team == team]['team'].count()*8\n",
    "\n",
    "capacity['Total'] = 0\n",
    "capacity['Total'] = capacity.sum(axis=1)\n",
    "    \n",
    "    \n",
    "\n",
    "fig = px.bar(\n",
    "    demand['Assigned'], \n",
    "    barmode='overlay', \n",
    "    color_discrete_sequence=px.colors.qualitative.Dark24, \n",
    "    opacity=1,\n",
    "    labels={\n",
    "        \"index\": \"\",\n",
    "        \"value\": \"Hours\",\n",
    "        \"variable\":\"\"\n",
    "\n",
    "    },\n",
    "    title=\"Hours Assigned\",\n",
    ")\n",
    "fig.add_trace(go.Bar(x=capacity.index , y=capacity['Total'], opacity=0.1, name='Capacity'))\n",
    "fig.layout.template = 'plotly_dark'\n",
    "\n",
    "\n"
   ]
  },
  {
   "cell_type": "code",
   "execution_count": 64,
   "id": "a00d0a0f-b26b-493b-98a3-1f02f2ef0240",
   "metadata": {
    "tags": []
   },
   "outputs": [
    {
     "data": {
      "text/html": [
       "<div>\n",
       "<style scoped>\n",
       "    .dataframe tbody tr th:only-of-type {\n",
       "        vertical-align: middle;\n",
       "    }\n",
       "\n",
       "    .dataframe tbody tr th {\n",
       "        vertical-align: top;\n",
       "    }\n",
       "\n",
       "    .dataframe thead th {\n",
       "        text-align: right;\n",
       "    }\n",
       "</style>\n",
       "<table border=\"1\" class=\"dataframe\">\n",
       "  <thead>\n",
       "    <tr style=\"text-align: right;\">\n",
       "      <th>team</th>\n",
       "      <th>Socio</th>\n",
       "      <th>Assigned</th>\n",
       "    </tr>\n",
       "  </thead>\n",
       "  <tbody>\n",
       "    <tr>\n",
       "      <th>2023-03-29</th>\n",
       "      <td>40</td>\n",
       "      <td>40</td>\n",
       "    </tr>\n",
       "    <tr>\n",
       "      <th>2023-03-30</th>\n",
       "      <td>48</td>\n",
       "      <td>48</td>\n",
       "    </tr>\n",
       "    <tr>\n",
       "      <th>2023-03-31</th>\n",
       "      <td>32</td>\n",
       "      <td>32</td>\n",
       "    </tr>\n",
       "    <tr>\n",
       "      <th>2023-04-03</th>\n",
       "      <td>28</td>\n",
       "      <td>28</td>\n",
       "    </tr>\n",
       "    <tr>\n",
       "      <th>2023-04-04</th>\n",
       "      <td>32</td>\n",
       "      <td>32</td>\n",
       "    </tr>\n",
       "    <tr>\n",
       "      <th>2023-04-05</th>\n",
       "      <td>22</td>\n",
       "      <td>22</td>\n",
       "    </tr>\n",
       "    <tr>\n",
       "      <th>2023-04-06</th>\n",
       "      <td>24</td>\n",
       "      <td>24</td>\n",
       "    </tr>\n",
       "    <tr>\n",
       "      <th>2023-04-07</th>\n",
       "      <td>0</td>\n",
       "      <td>0</td>\n",
       "    </tr>\n",
       "    <tr>\n",
       "      <th>2023-04-10</th>\n",
       "      <td>20</td>\n",
       "      <td>20</td>\n",
       "    </tr>\n",
       "    <tr>\n",
       "      <th>2023-04-11</th>\n",
       "      <td>24</td>\n",
       "      <td>24</td>\n",
       "    </tr>\n",
       "    <tr>\n",
       "      <th>2023-04-12</th>\n",
       "      <td>24</td>\n",
       "      <td>24</td>\n",
       "    </tr>\n",
       "    <tr>\n",
       "      <th>2023-04-13</th>\n",
       "      <td>24</td>\n",
       "      <td>24</td>\n",
       "    </tr>\n",
       "    <tr>\n",
       "      <th>2023-04-14</th>\n",
       "      <td>16</td>\n",
       "      <td>16</td>\n",
       "    </tr>\n",
       "    <tr>\n",
       "      <th>2023-04-17</th>\n",
       "      <td>16</td>\n",
       "      <td>16</td>\n",
       "    </tr>\n",
       "    <tr>\n",
       "      <th>2023-04-18</th>\n",
       "      <td>16</td>\n",
       "      <td>16</td>\n",
       "    </tr>\n",
       "    <tr>\n",
       "      <th>2023-04-19</th>\n",
       "      <td>16</td>\n",
       "      <td>16</td>\n",
       "    </tr>\n",
       "    <tr>\n",
       "      <th>2023-04-20</th>\n",
       "      <td>0</td>\n",
       "      <td>0</td>\n",
       "    </tr>\n",
       "    <tr>\n",
       "      <th>2023-04-21</th>\n",
       "      <td>0</td>\n",
       "      <td>0</td>\n",
       "    </tr>\n",
       "    <tr>\n",
       "      <th>2023-04-24</th>\n",
       "      <td>0</td>\n",
       "      <td>0</td>\n",
       "    </tr>\n",
       "    <tr>\n",
       "      <th>2023-04-25</th>\n",
       "      <td>0</td>\n",
       "      <td>0</td>\n",
       "    </tr>\n",
       "    <tr>\n",
       "      <th>2023-04-26</th>\n",
       "      <td>0</td>\n",
       "      <td>0</td>\n",
       "    </tr>\n",
       "    <tr>\n",
       "      <th>2023-04-27</th>\n",
       "      <td>0</td>\n",
       "      <td>0</td>\n",
       "    </tr>\n",
       "    <tr>\n",
       "      <th>2023-04-28</th>\n",
       "      <td>0</td>\n",
       "      <td>0</td>\n",
       "    </tr>\n",
       "    <tr>\n",
       "      <th>2023-05-01</th>\n",
       "      <td>0</td>\n",
       "      <td>0</td>\n",
       "    </tr>\n",
       "    <tr>\n",
       "      <th>2023-05-02</th>\n",
       "      <td>0</td>\n",
       "      <td>0</td>\n",
       "    </tr>\n",
       "    <tr>\n",
       "      <th>2023-05-03</th>\n",
       "      <td>8</td>\n",
       "      <td>8</td>\n",
       "    </tr>\n",
       "    <tr>\n",
       "      <th>2023-05-04</th>\n",
       "      <td>8</td>\n",
       "      <td>8</td>\n",
       "    </tr>\n",
       "    <tr>\n",
       "      <th>2023-05-05</th>\n",
       "      <td>8</td>\n",
       "      <td>8</td>\n",
       "    </tr>\n",
       "    <tr>\n",
       "      <th>2023-05-08</th>\n",
       "      <td>16</td>\n",
       "      <td>16</td>\n",
       "    </tr>\n",
       "    <tr>\n",
       "      <th>2023-05-09</th>\n",
       "      <td>16</td>\n",
       "      <td>16</td>\n",
       "    </tr>\n",
       "  </tbody>\n",
       "</table>\n",
       "</div>"
      ],
      "text/plain": [
       "team        Socio  Assigned\n",
       "2023-03-29     40        40\n",
       "2023-03-30     48        48\n",
       "2023-03-31     32        32\n",
       "2023-04-03     28        28\n",
       "2023-04-04     32        32\n",
       "2023-04-05     22        22\n",
       "2023-04-06     24        24\n",
       "2023-04-07      0         0\n",
       "2023-04-10     20        20\n",
       "2023-04-11     24        24\n",
       "2023-04-12     24        24\n",
       "2023-04-13     24        24\n",
       "2023-04-14     16        16\n",
       "2023-04-17     16        16\n",
       "2023-04-18     16        16\n",
       "2023-04-19     16        16\n",
       "2023-04-20      0         0\n",
       "2023-04-21      0         0\n",
       "2023-04-24      0         0\n",
       "2023-04-25      0         0\n",
       "2023-04-26      0         0\n",
       "2023-04-27      0         0\n",
       "2023-04-28      0         0\n",
       "2023-05-01      0         0\n",
       "2023-05-02      0         0\n",
       "2023-05-03      8         8\n",
       "2023-05-04      8         8\n",
       "2023-05-05      8         8\n",
       "2023-05-08     16        16\n",
       "2023-05-09     16        16"
      ]
     },
     "execution_count": 64,
     "metadata": {},
     "output_type": "execute_result"
    }
   ],
   "source": [
    "demand"
   ]
  },
  {
   "cell_type": "code",
   "execution_count": 65,
   "id": "2a5efb4d-4d42-427f-9768-3ef8adec2304",
   "metadata": {},
   "outputs": [],
   "source": [
    "db.execute(\"SELECT SUM(total_hours) hours FROM TaskAssign WHERE task_id = 10\")[0]['hours']"
   ]
  },
  {
   "cell_type": "code",
   "execution_count": 66,
   "id": "b41e37ef-d0bb-46d7-af78-509f00798088",
   "metadata": {
    "tags": []
   },
   "outputs": [
    {
     "data": {
      "application/vnd.plotly.v1+json": {
       "config": {
        "plotlyServerURL": "https://plot.ly"
       },
       "data": [
        {
         "alignmentgroup": "True",
         "hovertemplate": "Team=Socio<br>=%{y}<extra></extra>",
         "legendgroup": "Socio",
         "marker": {
          "color": "#AA0DFE",
          "pattern": {
           "shape": ""
          }
         },
         "name": "Socio",
         "offsetgroup": "Socio",
         "orientation": "v",
         "showlegend": true,
         "textposition": "auto",
         "type": "bar",
         "x": [
          "2023-03-29T00:00:00",
          "2023-03-30T00:00:00",
          "2023-03-31T00:00:00",
          "2023-04-03T00:00:00",
          "2023-04-04T00:00:00",
          "2023-04-05T00:00:00",
          "2023-04-06T00:00:00",
          "2023-04-07T00:00:00",
          "2023-04-10T00:00:00",
          "2023-04-11T00:00:00",
          "2023-04-12T00:00:00",
          "2023-04-13T00:00:00",
          "2023-04-14T00:00:00",
          "2023-04-17T00:00:00",
          "2023-04-18T00:00:00",
          "2023-04-19T00:00:00",
          "2023-04-20T00:00:00",
          "2023-04-21T00:00:00",
          "2023-04-24T00:00:00",
          "2023-04-25T00:00:00",
          "2023-04-26T00:00:00",
          "2023-04-27T00:00:00",
          "2023-04-28T00:00:00",
          "2023-05-01T00:00:00",
          "2023-05-02T00:00:00",
          "2023-05-03T00:00:00",
          "2023-05-04T00:00:00",
          "2023-05-05T00:00:00",
          "2023-05-08T00:00:00",
          "2023-05-09T00:00:00"
         ],
         "xaxis": "x",
         "y": [
          40,
          48,
          32,
          28,
          32,
          22,
          24,
          0,
          20,
          24,
          24,
          24,
          16,
          16,
          16,
          16,
          0,
          0,
          0,
          0,
          0,
          0,
          0,
          0,
          0,
          8,
          8,
          8,
          16,
          16
         ],
         "yaxis": "y"
        }
       ],
       "layout": {
        "annotations": [
         {
          "font": {},
          "showarrow": false,
          "text": "Team=Socio",
          "x": 0.5,
          "xanchor": "center",
          "xref": "paper",
          "y": 1,
          "yanchor": "bottom",
          "yref": "paper"
         }
        ],
        "barmode": "relative",
        "legend": {
         "title": {
          "text": "Team"
         },
         "tracegroupgap": 0
        },
        "template": {
         "data": {
          "bar": [
           {
            "error_x": {
             "color": "#f2f5fa"
            },
            "error_y": {
             "color": "#f2f5fa"
            },
            "marker": {
             "line": {
              "color": "rgb(17,17,17)",
              "width": 0.5
             },
             "pattern": {
              "fillmode": "overlay",
              "size": 10,
              "solidity": 0.2
             }
            },
            "type": "bar"
           }
          ],
          "barpolar": [
           {
            "marker": {
             "line": {
              "color": "rgb(17,17,17)",
              "width": 0.5
             },
             "pattern": {
              "fillmode": "overlay",
              "size": 10,
              "solidity": 0.2
             }
            },
            "type": "barpolar"
           }
          ],
          "carpet": [
           {
            "aaxis": {
             "endlinecolor": "#A2B1C6",
             "gridcolor": "#506784",
             "linecolor": "#506784",
             "minorgridcolor": "#506784",
             "startlinecolor": "#A2B1C6"
            },
            "baxis": {
             "endlinecolor": "#A2B1C6",
             "gridcolor": "#506784",
             "linecolor": "#506784",
             "minorgridcolor": "#506784",
             "startlinecolor": "#A2B1C6"
            },
            "type": "carpet"
           }
          ],
          "choropleth": [
           {
            "colorbar": {
             "outlinewidth": 0,
             "ticks": ""
            },
            "type": "choropleth"
           }
          ],
          "contour": [
           {
            "colorbar": {
             "outlinewidth": 0,
             "ticks": ""
            },
            "colorscale": [
             [
              0,
              "#0d0887"
             ],
             [
              0.1111111111111111,
              "#46039f"
             ],
             [
              0.2222222222222222,
              "#7201a8"
             ],
             [
              0.3333333333333333,
              "#9c179e"
             ],
             [
              0.4444444444444444,
              "#bd3786"
             ],
             [
              0.5555555555555556,
              "#d8576b"
             ],
             [
              0.6666666666666666,
              "#ed7953"
             ],
             [
              0.7777777777777778,
              "#fb9f3a"
             ],
             [
              0.8888888888888888,
              "#fdca26"
             ],
             [
              1,
              "#f0f921"
             ]
            ],
            "type": "contour"
           }
          ],
          "contourcarpet": [
           {
            "colorbar": {
             "outlinewidth": 0,
             "ticks": ""
            },
            "type": "contourcarpet"
           }
          ],
          "heatmap": [
           {
            "colorbar": {
             "outlinewidth": 0,
             "ticks": ""
            },
            "colorscale": [
             [
              0,
              "#0d0887"
             ],
             [
              0.1111111111111111,
              "#46039f"
             ],
             [
              0.2222222222222222,
              "#7201a8"
             ],
             [
              0.3333333333333333,
              "#9c179e"
             ],
             [
              0.4444444444444444,
              "#bd3786"
             ],
             [
              0.5555555555555556,
              "#d8576b"
             ],
             [
              0.6666666666666666,
              "#ed7953"
             ],
             [
              0.7777777777777778,
              "#fb9f3a"
             ],
             [
              0.8888888888888888,
              "#fdca26"
             ],
             [
              1,
              "#f0f921"
             ]
            ],
            "type": "heatmap"
           }
          ],
          "heatmapgl": [
           {
            "colorbar": {
             "outlinewidth": 0,
             "ticks": ""
            },
            "colorscale": [
             [
              0,
              "#0d0887"
             ],
             [
              0.1111111111111111,
              "#46039f"
             ],
             [
              0.2222222222222222,
              "#7201a8"
             ],
             [
              0.3333333333333333,
              "#9c179e"
             ],
             [
              0.4444444444444444,
              "#bd3786"
             ],
             [
              0.5555555555555556,
              "#d8576b"
             ],
             [
              0.6666666666666666,
              "#ed7953"
             ],
             [
              0.7777777777777778,
              "#fb9f3a"
             ],
             [
              0.8888888888888888,
              "#fdca26"
             ],
             [
              1,
              "#f0f921"
             ]
            ],
            "type": "heatmapgl"
           }
          ],
          "histogram": [
           {
            "marker": {
             "pattern": {
              "fillmode": "overlay",
              "size": 10,
              "solidity": 0.2
             }
            },
            "type": "histogram"
           }
          ],
          "histogram2d": [
           {
            "colorbar": {
             "outlinewidth": 0,
             "ticks": ""
            },
            "colorscale": [
             [
              0,
              "#0d0887"
             ],
             [
              0.1111111111111111,
              "#46039f"
             ],
             [
              0.2222222222222222,
              "#7201a8"
             ],
             [
              0.3333333333333333,
              "#9c179e"
             ],
             [
              0.4444444444444444,
              "#bd3786"
             ],
             [
              0.5555555555555556,
              "#d8576b"
             ],
             [
              0.6666666666666666,
              "#ed7953"
             ],
             [
              0.7777777777777778,
              "#fb9f3a"
             ],
             [
              0.8888888888888888,
              "#fdca26"
             ],
             [
              1,
              "#f0f921"
             ]
            ],
            "type": "histogram2d"
           }
          ],
          "histogram2dcontour": [
           {
            "colorbar": {
             "outlinewidth": 0,
             "ticks": ""
            },
            "colorscale": [
             [
              0,
              "#0d0887"
             ],
             [
              0.1111111111111111,
              "#46039f"
             ],
             [
              0.2222222222222222,
              "#7201a8"
             ],
             [
              0.3333333333333333,
              "#9c179e"
             ],
             [
              0.4444444444444444,
              "#bd3786"
             ],
             [
              0.5555555555555556,
              "#d8576b"
             ],
             [
              0.6666666666666666,
              "#ed7953"
             ],
             [
              0.7777777777777778,
              "#fb9f3a"
             ],
             [
              0.8888888888888888,
              "#fdca26"
             ],
             [
              1,
              "#f0f921"
             ]
            ],
            "type": "histogram2dcontour"
           }
          ],
          "mesh3d": [
           {
            "colorbar": {
             "outlinewidth": 0,
             "ticks": ""
            },
            "type": "mesh3d"
           }
          ],
          "parcoords": [
           {
            "line": {
             "colorbar": {
              "outlinewidth": 0,
              "ticks": ""
             }
            },
            "type": "parcoords"
           }
          ],
          "pie": [
           {
            "automargin": true,
            "type": "pie"
           }
          ],
          "scatter": [
           {
            "marker": {
             "line": {
              "color": "#283442"
             }
            },
            "type": "scatter"
           }
          ],
          "scatter3d": [
           {
            "line": {
             "colorbar": {
              "outlinewidth": 0,
              "ticks": ""
             }
            },
            "marker": {
             "colorbar": {
              "outlinewidth": 0,
              "ticks": ""
             }
            },
            "type": "scatter3d"
           }
          ],
          "scattercarpet": [
           {
            "marker": {
             "colorbar": {
              "outlinewidth": 0,
              "ticks": ""
             }
            },
            "type": "scattercarpet"
           }
          ],
          "scattergeo": [
           {
            "marker": {
             "colorbar": {
              "outlinewidth": 0,
              "ticks": ""
             }
            },
            "type": "scattergeo"
           }
          ],
          "scattergl": [
           {
            "marker": {
             "line": {
              "color": "#283442"
             }
            },
            "type": "scattergl"
           }
          ],
          "scattermapbox": [
           {
            "marker": {
             "colorbar": {
              "outlinewidth": 0,
              "ticks": ""
             }
            },
            "type": "scattermapbox"
           }
          ],
          "scatterpolar": [
           {
            "marker": {
             "colorbar": {
              "outlinewidth": 0,
              "ticks": ""
             }
            },
            "type": "scatterpolar"
           }
          ],
          "scatterpolargl": [
           {
            "marker": {
             "colorbar": {
              "outlinewidth": 0,
              "ticks": ""
             }
            },
            "type": "scatterpolargl"
           }
          ],
          "scatterternary": [
           {
            "marker": {
             "colorbar": {
              "outlinewidth": 0,
              "ticks": ""
             }
            },
            "type": "scatterternary"
           }
          ],
          "surface": [
           {
            "colorbar": {
             "outlinewidth": 0,
             "ticks": ""
            },
            "colorscale": [
             [
              0,
              "#0d0887"
             ],
             [
              0.1111111111111111,
              "#46039f"
             ],
             [
              0.2222222222222222,
              "#7201a8"
             ],
             [
              0.3333333333333333,
              "#9c179e"
             ],
             [
              0.4444444444444444,
              "#bd3786"
             ],
             [
              0.5555555555555556,
              "#d8576b"
             ],
             [
              0.6666666666666666,
              "#ed7953"
             ],
             [
              0.7777777777777778,
              "#fb9f3a"
             ],
             [
              0.8888888888888888,
              "#fdca26"
             ],
             [
              1,
              "#f0f921"
             ]
            ],
            "type": "surface"
           }
          ],
          "table": [
           {
            "cells": {
             "fill": {
              "color": "#506784"
             },
             "line": {
              "color": "rgb(17,17,17)"
             }
            },
            "header": {
             "fill": {
              "color": "#2a3f5f"
             },
             "line": {
              "color": "rgb(17,17,17)"
             }
            },
            "type": "table"
           }
          ]
         },
         "layout": {
          "annotationdefaults": {
           "arrowcolor": "#f2f5fa",
           "arrowhead": 0,
           "arrowwidth": 1
          },
          "autotypenumbers": "strict",
          "coloraxis": {
           "colorbar": {
            "outlinewidth": 0,
            "ticks": ""
           }
          },
          "colorscale": {
           "diverging": [
            [
             0,
             "#8e0152"
            ],
            [
             0.1,
             "#c51b7d"
            ],
            [
             0.2,
             "#de77ae"
            ],
            [
             0.3,
             "#f1b6da"
            ],
            [
             0.4,
             "#fde0ef"
            ],
            [
             0.5,
             "#f7f7f7"
            ],
            [
             0.6,
             "#e6f5d0"
            ],
            [
             0.7,
             "#b8e186"
            ],
            [
             0.8,
             "#7fbc41"
            ],
            [
             0.9,
             "#4d9221"
            ],
            [
             1,
             "#276419"
            ]
           ],
           "sequential": [
            [
             0,
             "#0d0887"
            ],
            [
             0.1111111111111111,
             "#46039f"
            ],
            [
             0.2222222222222222,
             "#7201a8"
            ],
            [
             0.3333333333333333,
             "#9c179e"
            ],
            [
             0.4444444444444444,
             "#bd3786"
            ],
            [
             0.5555555555555556,
             "#d8576b"
            ],
            [
             0.6666666666666666,
             "#ed7953"
            ],
            [
             0.7777777777777778,
             "#fb9f3a"
            ],
            [
             0.8888888888888888,
             "#fdca26"
            ],
            [
             1,
             "#f0f921"
            ]
           ],
           "sequentialminus": [
            [
             0,
             "#0d0887"
            ],
            [
             0.1111111111111111,
             "#46039f"
            ],
            [
             0.2222222222222222,
             "#7201a8"
            ],
            [
             0.3333333333333333,
             "#9c179e"
            ],
            [
             0.4444444444444444,
             "#bd3786"
            ],
            [
             0.5555555555555556,
             "#d8576b"
            ],
            [
             0.6666666666666666,
             "#ed7953"
            ],
            [
             0.7777777777777778,
             "#fb9f3a"
            ],
            [
             0.8888888888888888,
             "#fdca26"
            ],
            [
             1,
             "#f0f921"
            ]
           ]
          },
          "colorway": [
           "#636efa",
           "#EF553B",
           "#00cc96",
           "#ab63fa",
           "#FFA15A",
           "#19d3f3",
           "#FF6692",
           "#B6E880",
           "#FF97FF",
           "#FECB52"
          ],
          "font": {
           "color": "#f2f5fa"
          },
          "geo": {
           "bgcolor": "rgb(17,17,17)",
           "lakecolor": "rgb(17,17,17)",
           "landcolor": "rgb(17,17,17)",
           "showlakes": true,
           "showland": true,
           "subunitcolor": "#506784"
          },
          "hoverlabel": {
           "align": "left"
          },
          "hovermode": "closest",
          "mapbox": {
           "style": "dark"
          },
          "paper_bgcolor": "rgb(17,17,17)",
          "plot_bgcolor": "rgb(17,17,17)",
          "polar": {
           "angularaxis": {
            "gridcolor": "#506784",
            "linecolor": "#506784",
            "ticks": ""
           },
           "bgcolor": "rgb(17,17,17)",
           "radialaxis": {
            "gridcolor": "#506784",
            "linecolor": "#506784",
            "ticks": ""
           }
          },
          "scene": {
           "xaxis": {
            "backgroundcolor": "rgb(17,17,17)",
            "gridcolor": "#506784",
            "gridwidth": 2,
            "linecolor": "#506784",
            "showbackground": true,
            "ticks": "",
            "zerolinecolor": "#C8D4E3"
           },
           "yaxis": {
            "backgroundcolor": "rgb(17,17,17)",
            "gridcolor": "#506784",
            "gridwidth": 2,
            "linecolor": "#506784",
            "showbackground": true,
            "ticks": "",
            "zerolinecolor": "#C8D4E3"
           },
           "zaxis": {
            "backgroundcolor": "rgb(17,17,17)",
            "gridcolor": "#506784",
            "gridwidth": 2,
            "linecolor": "#506784",
            "showbackground": true,
            "ticks": "",
            "zerolinecolor": "#C8D4E3"
           }
          },
          "shapedefaults": {
           "line": {
            "color": "#f2f5fa"
           }
          },
          "sliderdefaults": {
           "bgcolor": "#C8D4E3",
           "bordercolor": "rgb(17,17,17)",
           "borderwidth": 1,
           "tickwidth": 0
          },
          "ternary": {
           "aaxis": {
            "gridcolor": "#506784",
            "linecolor": "#506784",
            "ticks": ""
           },
           "baxis": {
            "gridcolor": "#506784",
            "linecolor": "#506784",
            "ticks": ""
           },
           "bgcolor": "rgb(17,17,17)",
           "caxis": {
            "gridcolor": "#506784",
            "linecolor": "#506784",
            "ticks": ""
           }
          },
          "title": {
           "x": 0.05
          },
          "updatemenudefaults": {
           "bgcolor": "#506784",
           "borderwidth": 0
          },
          "xaxis": {
           "automargin": true,
           "gridcolor": "#283442",
           "linecolor": "#506784",
           "ticks": "",
           "title": {
            "standoff": 15
           },
           "zerolinecolor": "#283442",
           "zerolinewidth": 2
          },
          "yaxis": {
           "automargin": true,
           "gridcolor": "#283442",
           "linecolor": "#506784",
           "ticks": "",
           "title": {
            "standoff": 15
           },
           "zerolinecolor": "#283442",
           "zerolinewidth": 2
          }
         }
        },
        "title": {
         "text": "Hours Assigned"
        },
        "xaxis": {
         "anchor": "y",
         "domain": [
          0,
          1
         ],
         "title": {
          "text": ""
         }
        },
        "yaxis": {
         "anchor": "x",
         "domain": [
          0,
          1
         ],
         "title": {
          "text": ""
         }
        }
       }
      }
     },
     "metadata": {},
     "output_type": "display_data"
    }
   ],
   "source": [
    "demand = demand.drop('Assigned', axis=1)\n",
    "fig = px.bar(demand, facet_col='team', facet_col_wrap=2,\n",
    "             labels={\n",
    "                     \"index\": \"\",\n",
    "                     \"value\": \"\",\n",
    "                     \"team\": \"Team\"\n",
    "                 },\n",
    "            title=\"Hours Assigned\",\n",
    "            color_discrete_sequence=px.colors.qualitative.Alphabet)\n",
    "fig.layout.template = 'plotly_dark'\n",
    "fig.show()"
   ]
  },
  {
   "cell_type": "code",
   "execution_count": null,
   "id": "4153ca2f-fe64-48dc-9df5-2ef1d4b5fc77",
   "metadata": {
    "tags": []
   },
   "outputs": [],
   "source": []
  },
  {
   "cell_type": "code",
   "execution_count": null,
   "id": "315f3ad7-9ccf-4559-a88e-0c2ea2f7f324",
   "metadata": {
    "tags": []
   },
   "outputs": [],
   "source": [
    "\n"
   ]
  },
  {
   "cell_type": "code",
   "execution_count": 67,
   "id": "55f01b7d-14d3-4025-8ac2-d7dd6555c9ae",
   "metadata": {
    "tags": []
   },
   "outputs": [
    {
     "ename": "KeyError",
     "evalue": "'Assigned'",
     "output_type": "error",
     "traceback": [
      "\u001b[0;31m---------------------------------------------------------------------------\u001b[0m",
      "\u001b[0;31mKeyError\u001b[0m                                  Traceback (most recent call last)",
      "File \u001b[0;32m/Library/Frameworks/Python.framework/Versions/3.10/lib/python3.10/site-packages/pandas/core/indexes/base.py:3802\u001b[0m, in \u001b[0;36mIndex.get_loc\u001b[0;34m(self, key, method, tolerance)\u001b[0m\n\u001b[1;32m   3801\u001b[0m \u001b[39mtry\u001b[39;00m:\n\u001b[0;32m-> 3802\u001b[0m     \u001b[39mreturn\u001b[39;00m \u001b[39mself\u001b[39;49m\u001b[39m.\u001b[39;49m_engine\u001b[39m.\u001b[39;49mget_loc(casted_key)\n\u001b[1;32m   3803\u001b[0m \u001b[39mexcept\u001b[39;00m \u001b[39mKeyError\u001b[39;00m \u001b[39mas\u001b[39;00m err:\n",
      "File \u001b[0;32m/Library/Frameworks/Python.framework/Versions/3.10/lib/python3.10/site-packages/pandas/_libs/index.pyx:138\u001b[0m, in \u001b[0;36mpandas._libs.index.IndexEngine.get_loc\u001b[0;34m()\u001b[0m\n",
      "File \u001b[0;32m/Library/Frameworks/Python.framework/Versions/3.10/lib/python3.10/site-packages/pandas/_libs/index.pyx:165\u001b[0m, in \u001b[0;36mpandas._libs.index.IndexEngine.get_loc\u001b[0;34m()\u001b[0m\n",
      "File \u001b[0;32mpandas/_libs/hashtable_class_helper.pxi:5745\u001b[0m, in \u001b[0;36mpandas._libs.hashtable.PyObjectHashTable.get_item\u001b[0;34m()\u001b[0m\n",
      "File \u001b[0;32mpandas/_libs/hashtable_class_helper.pxi:5753\u001b[0m, in \u001b[0;36mpandas._libs.hashtable.PyObjectHashTable.get_item\u001b[0;34m()\u001b[0m\n",
      "\u001b[0;31mKeyError\u001b[0m: 'Assigned'",
      "\nThe above exception was the direct cause of the following exception:\n",
      "\u001b[0;31mKeyError\u001b[0m                                  Traceback (most recent call last)",
      "Cell \u001b[0;32mIn[67], line 8\u001b[0m\n\u001b[1;32m      2\u001b[0m end \u001b[39m=\u001b[39mdf\u001b[39m.\u001b[39mend_date\u001b[39m.\u001b[39mmax()\n\u001b[1;32m      4\u001b[0m fig1 \u001b[39m=\u001b[39m go\u001b[39m.\u001b[39mFigure()\n\u001b[1;32m      6\u001b[0m fig1\u001b[39m.\u001b[39madd_trace(go\u001b[39m.\u001b[39mIndicator(\n\u001b[1;32m      7\u001b[0m     mode \u001b[39m=\u001b[39m \u001b[39m\"\u001b[39m\u001b[39mnumber\u001b[39m\u001b[39m\"\u001b[39m,\n\u001b[0;32m----> 8\u001b[0m     value \u001b[39m=\u001b[39m demand\u001b[39m.\u001b[39;49mloc[start:end, \u001b[39m'\u001b[39;49m\u001b[39mAssigned\u001b[39;49m\u001b[39m'\u001b[39;49m]\u001b[39m.\u001b[39msum(),\n\u001b[1;32m      9\u001b[0m     title\u001b[39m=\u001b[39m {\u001b[39m'\u001b[39m\u001b[39mtext\u001b[39m\u001b[39m'\u001b[39m: \u001b[39m\"\u001b[39m\u001b[39mHours Assigned\u001b[39m\u001b[39m\"\u001b[39m},\n\u001b[1;32m     10\u001b[0m     domain \u001b[39m=\u001b[39m {\u001b[39m'\u001b[39m\u001b[39mrow\u001b[39m\u001b[39m'\u001b[39m: \u001b[39m0\u001b[39m, \u001b[39m'\u001b[39m\u001b[39mcolumn\u001b[39m\u001b[39m'\u001b[39m: \u001b[39m0\u001b[39m},\n\u001b[1;32m     11\u001b[0m     \u001b[39m#delta = {'reference': 400, 'relative': True, 'position' : \"top\"}\u001b[39;00m\n\u001b[1;32m     12\u001b[0m ))\n\u001b[1;32m     14\u001b[0m fig1\u001b[39m.\u001b[39madd_trace(go\u001b[39m.\u001b[39mIndicator(\n\u001b[1;32m     15\u001b[0m     mode \u001b[39m=\u001b[39m \u001b[39m\"\u001b[39m\u001b[39mnumber+delta\u001b[39m\u001b[39m\"\u001b[39m,\n\u001b[1;32m     16\u001b[0m     value \u001b[39m=\u001b[39m capacity\u001b[39m.\u001b[39mloc[start:end, \u001b[39m'\u001b[39m\u001b[39mTotal\u001b[39m\u001b[39m'\u001b[39m]\u001b[39m.\u001b[39msum(),\n\u001b[0;32m   (...)\u001b[0m\n\u001b[1;32m     19\u001b[0m     domain \u001b[39m=\u001b[39m {\u001b[39m'\u001b[39m\u001b[39mrow\u001b[39m\u001b[39m'\u001b[39m: \u001b[39m0\u001b[39m, \u001b[39m'\u001b[39m\u001b[39mcolumn\u001b[39m\u001b[39m'\u001b[39m: \u001b[39m1\u001b[39m},\n\u001b[1;32m     20\u001b[0m ))\n\u001b[1;32m     22\u001b[0m fig1\u001b[39m.\u001b[39mupdate_layout(\n\u001b[1;32m     23\u001b[0m     grid \u001b[39m=\u001b[39m {\u001b[39m'\u001b[39m\u001b[39mrows\u001b[39m\u001b[39m'\u001b[39m: \u001b[39m1\u001b[39m, \u001b[39m'\u001b[39m\u001b[39mcolumns\u001b[39m\u001b[39m'\u001b[39m: \u001b[39m2\u001b[39m, \u001b[39m'\u001b[39m\u001b[39mpattern\u001b[39m\u001b[39m'\u001b[39m: \u001b[39m\"\u001b[39m\u001b[39mindependent\u001b[39m\u001b[39m\"\u001b[39m,},\n\u001b[1;32m     24\u001b[0m     template\u001b[39m=\u001b[39m\u001b[39m'\u001b[39m\u001b[39mplotly_dark\u001b[39m\u001b[39m'\u001b[39m\n\u001b[1;32m     25\u001b[0m )\n",
      "File \u001b[0;32m/Library/Frameworks/Python.framework/Versions/3.10/lib/python3.10/site-packages/pandas/core/indexing.py:1067\u001b[0m, in \u001b[0;36m_LocationIndexer.__getitem__\u001b[0;34m(self, key)\u001b[0m\n\u001b[1;32m   1065\u001b[0m     \u001b[39mif\u001b[39;00m \u001b[39mself\u001b[39m\u001b[39m.\u001b[39m_is_scalar_access(key):\n\u001b[1;32m   1066\u001b[0m         \u001b[39mreturn\u001b[39;00m \u001b[39mself\u001b[39m\u001b[39m.\u001b[39mobj\u001b[39m.\u001b[39m_get_value(\u001b[39m*\u001b[39mkey, takeable\u001b[39m=\u001b[39m\u001b[39mself\u001b[39m\u001b[39m.\u001b[39m_takeable)\n\u001b[0;32m-> 1067\u001b[0m     \u001b[39mreturn\u001b[39;00m \u001b[39mself\u001b[39;49m\u001b[39m.\u001b[39;49m_getitem_tuple(key)\n\u001b[1;32m   1068\u001b[0m \u001b[39melse\u001b[39;00m:\n\u001b[1;32m   1069\u001b[0m     \u001b[39m# we by definition only have the 0th axis\u001b[39;00m\n\u001b[1;32m   1070\u001b[0m     axis \u001b[39m=\u001b[39m \u001b[39mself\u001b[39m\u001b[39m.\u001b[39maxis \u001b[39mor\u001b[39;00m \u001b[39m0\u001b[39m\n",
      "File \u001b[0;32m/Library/Frameworks/Python.framework/Versions/3.10/lib/python3.10/site-packages/pandas/core/indexing.py:1247\u001b[0m, in \u001b[0;36m_LocIndexer._getitem_tuple\u001b[0;34m(self, tup)\u001b[0m\n\u001b[1;32m   1245\u001b[0m \u001b[39mwith\u001b[39;00m suppress(IndexingError):\n\u001b[1;32m   1246\u001b[0m     tup \u001b[39m=\u001b[39m \u001b[39mself\u001b[39m\u001b[39m.\u001b[39m_expand_ellipsis(tup)\n\u001b[0;32m-> 1247\u001b[0m     \u001b[39mreturn\u001b[39;00m \u001b[39mself\u001b[39;49m\u001b[39m.\u001b[39;49m_getitem_lowerdim(tup)\n\u001b[1;32m   1249\u001b[0m \u001b[39m# no multi-index, so validate all of the indexers\u001b[39;00m\n\u001b[1;32m   1250\u001b[0m tup \u001b[39m=\u001b[39m \u001b[39mself\u001b[39m\u001b[39m.\u001b[39m_validate_tuple_indexer(tup)\n",
      "File \u001b[0;32m/Library/Frameworks/Python.framework/Versions/3.10/lib/python3.10/site-packages/pandas/core/indexing.py:967\u001b[0m, in \u001b[0;36m_LocationIndexer._getitem_lowerdim\u001b[0;34m(self, tup)\u001b[0m\n\u001b[1;32m    963\u001b[0m \u001b[39mfor\u001b[39;00m i, key \u001b[39min\u001b[39;00m \u001b[39menumerate\u001b[39m(tup):\n\u001b[1;32m    964\u001b[0m     \u001b[39mif\u001b[39;00m is_label_like(key):\n\u001b[1;32m    965\u001b[0m         \u001b[39m# We don't need to check for tuples here because those are\u001b[39;00m\n\u001b[1;32m    966\u001b[0m         \u001b[39m#  caught by the _is_nested_tuple_indexer check above.\u001b[39;00m\n\u001b[0;32m--> 967\u001b[0m         section \u001b[39m=\u001b[39m \u001b[39mself\u001b[39;49m\u001b[39m.\u001b[39;49m_getitem_axis(key, axis\u001b[39m=\u001b[39;49mi)\n\u001b[1;32m    969\u001b[0m         \u001b[39m# We should never have a scalar section here, because\u001b[39;00m\n\u001b[1;32m    970\u001b[0m         \u001b[39m#  _getitem_lowerdim is only called after a check for\u001b[39;00m\n\u001b[1;32m    971\u001b[0m         \u001b[39m#  is_scalar_access, which that would be.\u001b[39;00m\n\u001b[1;32m    972\u001b[0m         \u001b[39mif\u001b[39;00m section\u001b[39m.\u001b[39mndim \u001b[39m==\u001b[39m \u001b[39mself\u001b[39m\u001b[39m.\u001b[39mndim:\n\u001b[1;32m    973\u001b[0m             \u001b[39m# we're in the middle of slicing through a MultiIndex\u001b[39;00m\n\u001b[1;32m    974\u001b[0m             \u001b[39m# revise the key wrt to `section` by inserting an _NS\u001b[39;00m\n",
      "File \u001b[0;32m/Library/Frameworks/Python.framework/Versions/3.10/lib/python3.10/site-packages/pandas/core/indexing.py:1312\u001b[0m, in \u001b[0;36m_LocIndexer._getitem_axis\u001b[0;34m(self, key, axis)\u001b[0m\n\u001b[1;32m   1310\u001b[0m \u001b[39m# fall thru to straight lookup\u001b[39;00m\n\u001b[1;32m   1311\u001b[0m \u001b[39mself\u001b[39m\u001b[39m.\u001b[39m_validate_key(key, axis)\n\u001b[0;32m-> 1312\u001b[0m \u001b[39mreturn\u001b[39;00m \u001b[39mself\u001b[39;49m\u001b[39m.\u001b[39;49m_get_label(key, axis\u001b[39m=\u001b[39;49maxis)\n",
      "File \u001b[0;32m/Library/Frameworks/Python.framework/Versions/3.10/lib/python3.10/site-packages/pandas/core/indexing.py:1260\u001b[0m, in \u001b[0;36m_LocIndexer._get_label\u001b[0;34m(self, label, axis)\u001b[0m\n\u001b[1;32m   1258\u001b[0m \u001b[39mdef\u001b[39;00m \u001b[39m_get_label\u001b[39m(\u001b[39mself\u001b[39m, label, axis: \u001b[39mint\u001b[39m):\n\u001b[1;32m   1259\u001b[0m     \u001b[39m# GH#5567 this will fail if the label is not present in the axis.\u001b[39;00m\n\u001b[0;32m-> 1260\u001b[0m     \u001b[39mreturn\u001b[39;00m \u001b[39mself\u001b[39;49m\u001b[39m.\u001b[39;49mobj\u001b[39m.\u001b[39;49mxs(label, axis\u001b[39m=\u001b[39;49maxis)\n",
      "File \u001b[0;32m/Library/Frameworks/Python.framework/Versions/3.10/lib/python3.10/site-packages/pandas/core/generic.py:4041\u001b[0m, in \u001b[0;36mNDFrame.xs\u001b[0;34m(self, key, axis, level, drop_level)\u001b[0m\n\u001b[1;32m   4039\u001b[0m \u001b[39mif\u001b[39;00m axis \u001b[39m==\u001b[39m \u001b[39m1\u001b[39m:\n\u001b[1;32m   4040\u001b[0m     \u001b[39mif\u001b[39;00m drop_level:\n\u001b[0;32m-> 4041\u001b[0m         \u001b[39mreturn\u001b[39;00m \u001b[39mself\u001b[39;49m[key]\n\u001b[1;32m   4042\u001b[0m     index \u001b[39m=\u001b[39m \u001b[39mself\u001b[39m\u001b[39m.\u001b[39mcolumns\n\u001b[1;32m   4043\u001b[0m \u001b[39melse\u001b[39;00m:\n",
      "File \u001b[0;32m/Library/Frameworks/Python.framework/Versions/3.10/lib/python3.10/site-packages/pandas/core/frame.py:3807\u001b[0m, in \u001b[0;36mDataFrame.__getitem__\u001b[0;34m(self, key)\u001b[0m\n\u001b[1;32m   3805\u001b[0m \u001b[39mif\u001b[39;00m \u001b[39mself\u001b[39m\u001b[39m.\u001b[39mcolumns\u001b[39m.\u001b[39mnlevels \u001b[39m>\u001b[39m \u001b[39m1\u001b[39m:\n\u001b[1;32m   3806\u001b[0m     \u001b[39mreturn\u001b[39;00m \u001b[39mself\u001b[39m\u001b[39m.\u001b[39m_getitem_multilevel(key)\n\u001b[0;32m-> 3807\u001b[0m indexer \u001b[39m=\u001b[39m \u001b[39mself\u001b[39;49m\u001b[39m.\u001b[39;49mcolumns\u001b[39m.\u001b[39;49mget_loc(key)\n\u001b[1;32m   3808\u001b[0m \u001b[39mif\u001b[39;00m is_integer(indexer):\n\u001b[1;32m   3809\u001b[0m     indexer \u001b[39m=\u001b[39m [indexer]\n",
      "File \u001b[0;32m/Library/Frameworks/Python.framework/Versions/3.10/lib/python3.10/site-packages/pandas/core/indexes/base.py:3804\u001b[0m, in \u001b[0;36mIndex.get_loc\u001b[0;34m(self, key, method, tolerance)\u001b[0m\n\u001b[1;32m   3802\u001b[0m     \u001b[39mreturn\u001b[39;00m \u001b[39mself\u001b[39m\u001b[39m.\u001b[39m_engine\u001b[39m.\u001b[39mget_loc(casted_key)\n\u001b[1;32m   3803\u001b[0m \u001b[39mexcept\u001b[39;00m \u001b[39mKeyError\u001b[39;00m \u001b[39mas\u001b[39;00m err:\n\u001b[0;32m-> 3804\u001b[0m     \u001b[39mraise\u001b[39;00m \u001b[39mKeyError\u001b[39;00m(key) \u001b[39mfrom\u001b[39;00m \u001b[39merr\u001b[39;00m\n\u001b[1;32m   3805\u001b[0m \u001b[39mexcept\u001b[39;00m \u001b[39mTypeError\u001b[39;00m:\n\u001b[1;32m   3806\u001b[0m     \u001b[39m# If we have a listlike key, _check_indexing_error will raise\u001b[39;00m\n\u001b[1;32m   3807\u001b[0m     \u001b[39m#  InvalidIndexError. Otherwise we fall through and re-raise\u001b[39;00m\n\u001b[1;32m   3808\u001b[0m     \u001b[39m#  the TypeError.\u001b[39;00m\n\u001b[1;32m   3809\u001b[0m     \u001b[39mself\u001b[39m\u001b[39m.\u001b[39m_check_indexing_error(key)\n",
      "\u001b[0;31mKeyError\u001b[0m: 'Assigned'"
     ]
    }
   ],
   "source": [
    "start=df.start_date.min()\n",
    "end =df.end_date.max()\n",
    "\n",
    "fig1 = go.Figure()\n",
    "\n",
    "fig1.add_trace(go.Indicator(\n",
    "    mode = \"number\",\n",
    "    value = demand.loc[start:end, 'Assigned'].sum(),\n",
    "    title= {'text': \"Hours Assigned\"},\n",
    "    domain = {'row': 0, 'column': 0},\n",
    "    #delta = {'reference': 400, 'relative': True, 'position' : \"top\"}\n",
    "))\n",
    "\n",
    "fig1.add_trace(go.Indicator(\n",
    "    mode = \"number+delta\",\n",
    "    value = capacity.loc[start:end, 'Total'].sum(),\n",
    "    title= {'text': \"Capacity\"},\n",
    "    delta = {'reference': demand.loc[start:end, 'Assigned'].sum()},\n",
    "    domain = {'row': 0, 'column': 1},\n",
    "))\n",
    "\n",
    "fig1.update_layout(\n",
    "    grid = {'rows': 1, 'columns': 2, 'pattern': \"independent\",},\n",
    "    template='plotly_dark'\n",
    ")\n",
    "\n",
    "fig.show()"
   ]
  },
  {
   "cell_type": "code",
   "execution_count": 68,
   "id": "3475a7ce-5cae-40c7-b711-856eb31b5966",
   "metadata": {},
   "outputs": [
    {
     "data": {
      "text/plain": [
       "Templates configuration\n",
       "-----------------------\n",
       "    Default template: 'plotly'\n",
       "    Available templates:\n",
       "        ['ggplot2', 'seaborn', 'simple_white', 'plotly',\n",
       "         'plotly_white', 'plotly_dark', 'presentation', 'xgridoff',\n",
       "         'ygridoff', 'gridon', 'none']"
      ]
     },
     "execution_count": 68,
     "metadata": {},
     "output_type": "execute_result"
    }
   ],
   "source": [
    "import plotly.io as pio\n",
    "pio.templates"
   ]
  },
  {
   "cell_type": "code",
   "execution_count": 69,
   "id": "83dfda2f-7abf-4b38-b375-0550eef2bfdd",
   "metadata": {
    "tags": []
   },
   "outputs": [],
   "source": [
    "df['end_date'] = pd.to_datetime(df['end_date'])\n",
    "df['start_date'] = pd.to_datetime(df['start_date'])\n",
    "df['end_date'] = df['end_date'] + pd.to_timedelta(23.99, unit='h')"
   ]
  },
  {
   "cell_type": "code",
   "execution_count": 70,
   "id": "882a3b9a-c3dc-47de-8342-b2adac45a8c6",
   "metadata": {
    "tags": []
   },
   "outputs": [],
   "source": [
    "df['end_date'] = df['end_date'] + pd.to_timedelta(23.99, unit='h')"
   ]
  },
  {
   "cell_type": "code",
   "execution_count": 71,
   "id": "7a751e1a-6343-46ac-9b22-89eb9b3d7932",
   "metadata": {},
   "outputs": [
    {
     "data": {
      "text/html": [
       "<div>\n",
       "<style scoped>\n",
       "    .dataframe tbody tr th:only-of-type {\n",
       "        vertical-align: middle;\n",
       "    }\n",
       "\n",
       "    .dataframe tbody tr th {\n",
       "        vertical-align: top;\n",
       "    }\n",
       "\n",
       "    .dataframe thead th {\n",
       "        text-align: right;\n",
       "    }\n",
       "</style>\n",
       "<table border=\"1\" class=\"dataframe\">\n",
       "  <thead>\n",
       "    <tr style=\"text-align: right;\">\n",
       "      <th></th>\n",
       "      <th>project</th>\n",
       "      <th>task_id</th>\n",
       "      <th>task</th>\n",
       "      <th>demand</th>\n",
       "      <th>people_id</th>\n",
       "      <th>person</th>\n",
       "      <th>team</th>\n",
       "      <th>start_date</th>\n",
       "      <th>end_date</th>\n",
       "      <th>hours_day</th>\n",
       "      <th>total_hours</th>\n",
       "    </tr>\n",
       "  </thead>\n",
       "  <tbody>\n",
       "    <tr>\n",
       "      <th>0</th>\n",
       "      <td>CE Serra do Tigre</td>\n",
       "      <td>1</td>\n",
       "      <td>Relatório de Edificações</td>\n",
       "      <td>32</td>\n",
       "      <td>2</td>\n",
       "      <td>Max</td>\n",
       "      <td>Socio</td>\n",
       "      <td>2023-03-29</td>\n",
       "      <td>2023-03-30 23:59:24</td>\n",
       "      <td>8</td>\n",
       "      <td>16</td>\n",
       "    </tr>\n",
       "    <tr>\n",
       "      <th>1</th>\n",
       "      <td>CE Serra do Tigre</td>\n",
       "      <td>1</td>\n",
       "      <td>Relatório de Edificações</td>\n",
       "      <td>32</td>\n",
       "      <td>7</td>\n",
       "      <td>Raquel</td>\n",
       "      <td>Socio</td>\n",
       "      <td>2023-03-29</td>\n",
       "      <td>2023-03-30 23:59:24</td>\n",
       "      <td>8</td>\n",
       "      <td>16</td>\n",
       "    </tr>\n",
       "    <tr>\n",
       "      <th>2</th>\n",
       "      <td>CE Cajuina A</td>\n",
       "      <td>2</td>\n",
       "      <td>Diagnóstico PMIS</td>\n",
       "      <td>24</td>\n",
       "      <td>5</td>\n",
       "      <td>Mariana</td>\n",
       "      <td>Socio</td>\n",
       "      <td>2023-03-29</td>\n",
       "      <td>2023-03-31 23:59:24</td>\n",
       "      <td>8</td>\n",
       "      <td>24</td>\n",
       "    </tr>\n",
       "    <tr>\n",
       "      <th>3</th>\n",
       "      <td>UFV Oliveira dos Brejinhos</td>\n",
       "      <td>3</td>\n",
       "      <td>Mobilização de Campo</td>\n",
       "      <td>4</td>\n",
       "      <td>7</td>\n",
       "      <td>Raquel</td>\n",
       "      <td>Socio</td>\n",
       "      <td>2023-03-31</td>\n",
       "      <td>2023-03-31 23:59:24</td>\n",
       "      <td>4</td>\n",
       "      <td>4</td>\n",
       "    </tr>\n",
       "    <tr>\n",
       "      <th>4</th>\n",
       "      <td>CE Babilônia Centro</td>\n",
       "      <td>4</td>\n",
       "      <td>Programas PBA LT</td>\n",
       "      <td>16</td>\n",
       "      <td>6</td>\n",
       "      <td>Edimara</td>\n",
       "      <td>Socio</td>\n",
       "      <td>2023-03-30</td>\n",
       "      <td>2023-03-31 23:59:24</td>\n",
       "      <td>8</td>\n",
       "      <td>16</td>\n",
       "    </tr>\n",
       "    <tr>\n",
       "      <th>5</th>\n",
       "      <td>CE Rio do Vento Expansão</td>\n",
       "      <td>5</td>\n",
       "      <td>Diagnóstico PMIS</td>\n",
       "      <td>32</td>\n",
       "      <td>5</td>\n",
       "      <td>Mariana</td>\n",
       "      <td>Socio</td>\n",
       "      <td>2023-04-03</td>\n",
       "      <td>2023-04-06 23:59:24</td>\n",
       "      <td>8</td>\n",
       "      <td>32</td>\n",
       "    </tr>\n",
       "    <tr>\n",
       "      <th>6</th>\n",
       "      <td>CE Queimada Nova IV</td>\n",
       "      <td>6</td>\n",
       "      <td>Diagnóstico de ADA</td>\n",
       "      <td>8</td>\n",
       "      <td>6</td>\n",
       "      <td>Edimara</td>\n",
       "      <td>Socio</td>\n",
       "      <td>2023-03-29</td>\n",
       "      <td>2023-03-29 23:59:24</td>\n",
       "      <td>8</td>\n",
       "      <td>8</td>\n",
       "    </tr>\n",
       "    <tr>\n",
       "      <th>7</th>\n",
       "      <td>CE Queimada Nova IV</td>\n",
       "      <td>7</td>\n",
       "      <td>Análise Integrada</td>\n",
       "      <td>4</td>\n",
       "      <td>6</td>\n",
       "      <td>Edimara</td>\n",
       "      <td>Socio</td>\n",
       "      <td>2023-03-30</td>\n",
       "      <td>2023-03-30 23:59:24</td>\n",
       "      <td>4</td>\n",
       "      <td>4</td>\n",
       "    </tr>\n",
       "    <tr>\n",
       "      <th>8</th>\n",
       "      <td>CE Queimada Nova IV</td>\n",
       "      <td>8</td>\n",
       "      <td>Revisão AIA/RIMA/Programas</td>\n",
       "      <td>8</td>\n",
       "      <td>6</td>\n",
       "      <td>Edimara</td>\n",
       "      <td>Socio</td>\n",
       "      <td>2023-03-30</td>\n",
       "      <td>2023-03-31 23:59:24</td>\n",
       "      <td>4</td>\n",
       "      <td>8</td>\n",
       "    </tr>\n",
       "    <tr>\n",
       "      <th>9</th>\n",
       "      <td>CE Cajuina 5L</td>\n",
       "      <td>9</td>\n",
       "      <td>Revisão Inventário Turístico</td>\n",
       "      <td>4</td>\n",
       "      <td>7</td>\n",
       "      <td>Raquel</td>\n",
       "      <td>Socio</td>\n",
       "      <td>2023-04-03</td>\n",
       "      <td>2023-04-03 23:59:24</td>\n",
       "      <td>4</td>\n",
       "      <td>4</td>\n",
       "    </tr>\n",
       "    <tr>\n",
       "      <th>10</th>\n",
       "      <td>CE Babilônia Centro</td>\n",
       "      <td>11</td>\n",
       "      <td>Campo - Mapeamento de Stakeholders</td>\n",
       "      <td>40</td>\n",
       "      <td>4</td>\n",
       "      <td>Paulo</td>\n",
       "      <td>Socio</td>\n",
       "      <td>2023-03-29</td>\n",
       "      <td>2023-04-04 23:59:24</td>\n",
       "      <td>8</td>\n",
       "      <td>40</td>\n",
       "    </tr>\n",
       "    <tr>\n",
       "      <th>11</th>\n",
       "      <td>CE Babilônia Centro</td>\n",
       "      <td>12</td>\n",
       "      <td>Diagnóstico de Mapeamento</td>\n",
       "      <td>128</td>\n",
       "      <td>4</td>\n",
       "      <td>Paulo</td>\n",
       "      <td>Socio</td>\n",
       "      <td>2023-04-10</td>\n",
       "      <td>2023-04-19 23:59:24</td>\n",
       "      <td>8</td>\n",
       "      <td>64</td>\n",
       "    </tr>\n",
       "    <tr>\n",
       "      <th>12</th>\n",
       "      <td>CE Babilônia Centro</td>\n",
       "      <td>12</td>\n",
       "      <td>Diagnóstico de Mapeamento</td>\n",
       "      <td>128</td>\n",
       "      <td>5</td>\n",
       "      <td>Mariana</td>\n",
       "      <td>Socio</td>\n",
       "      <td>2023-04-10</td>\n",
       "      <td>2023-04-19 23:59:24</td>\n",
       "      <td>8</td>\n",
       "      <td>64</td>\n",
       "    </tr>\n",
       "    <tr>\n",
       "      <th>13</th>\n",
       "      <td>CE Babilônia Centro</td>\n",
       "      <td>13</td>\n",
       "      <td>Reuniões Comunitárias</td>\n",
       "      <td>24</td>\n",
       "      <td>4</td>\n",
       "      <td>Paulo</td>\n",
       "      <td>Socio</td>\n",
       "      <td>2023-05-03</td>\n",
       "      <td>2023-05-05 23:59:24</td>\n",
       "      <td>8</td>\n",
       "      <td>24</td>\n",
       "    </tr>\n",
       "    <tr>\n",
       "      <th>14</th>\n",
       "      <td>CE Babilônia Centro</td>\n",
       "      <td>14</td>\n",
       "      <td>Revisão Final do Mapeamento</td>\n",
       "      <td>16</td>\n",
       "      <td>4</td>\n",
       "      <td>Paulo</td>\n",
       "      <td>Socio</td>\n",
       "      <td>2023-05-08</td>\n",
       "      <td>2023-05-09 23:59:24</td>\n",
       "      <td>8</td>\n",
       "      <td>16</td>\n",
       "    </tr>\n",
       "    <tr>\n",
       "      <th>15</th>\n",
       "      <td>UFV Rio do Vento I</td>\n",
       "      <td>15</td>\n",
       "      <td>RAC IRDPA</td>\n",
       "      <td>32</td>\n",
       "      <td>3</td>\n",
       "      <td>Julio</td>\n",
       "      <td>Socio</td>\n",
       "      <td>2023-04-03</td>\n",
       "      <td>2023-04-06 23:59:24</td>\n",
       "      <td>8</td>\n",
       "      <td>32</td>\n",
       "    </tr>\n",
       "    <tr>\n",
       "      <th>16</th>\n",
       "      <td>LT Assuruá 6</td>\n",
       "      <td>16</td>\n",
       "      <td>Diagnóstico de AII/AID</td>\n",
       "      <td>8</td>\n",
       "      <td>1</td>\n",
       "      <td>Renata</td>\n",
       "      <td>Socio</td>\n",
       "      <td>2023-04-06</td>\n",
       "      <td>2023-04-06 23:59:24</td>\n",
       "      <td>8</td>\n",
       "      <td>8</td>\n",
       "    </tr>\n",
       "    <tr>\n",
       "      <th>17</th>\n",
       "      <td>LT Assuruá 6</td>\n",
       "      <td>17</td>\n",
       "      <td>Prognóstico</td>\n",
       "      <td>4</td>\n",
       "      <td>1</td>\n",
       "      <td>Renata</td>\n",
       "      <td>Socio</td>\n",
       "      <td>2023-04-10</td>\n",
       "      <td>2023-04-10 23:59:24</td>\n",
       "      <td>4</td>\n",
       "      <td>4</td>\n",
       "    </tr>\n",
       "    <tr>\n",
       "      <th>18</th>\n",
       "      <td>LT Assuruá 6</td>\n",
       "      <td>18</td>\n",
       "      <td>Avaliação de Impactos</td>\n",
       "      <td>8</td>\n",
       "      <td>1</td>\n",
       "      <td>Renata</td>\n",
       "      <td>Socio</td>\n",
       "      <td>2023-04-11</td>\n",
       "      <td>2023-04-11 23:59:24</td>\n",
       "      <td>8</td>\n",
       "      <td>8</td>\n",
       "    </tr>\n",
       "    <tr>\n",
       "      <th>19</th>\n",
       "      <td>LT Assuruá 6</td>\n",
       "      <td>19</td>\n",
       "      <td>Programas</td>\n",
       "      <td>16</td>\n",
       "      <td>1</td>\n",
       "      <td>Renata</td>\n",
       "      <td>Socio</td>\n",
       "      <td>2023-04-12</td>\n",
       "      <td>2023-04-13 23:59:24</td>\n",
       "      <td>8</td>\n",
       "      <td>16</td>\n",
       "    </tr>\n",
       "    <tr>\n",
       "      <th>20</th>\n",
       "      <td>LT Sento Sé I, II e Ourolândia</td>\n",
       "      <td>23</td>\n",
       "      <td>Reuniões Comunitárias</td>\n",
       "      <td>16</td>\n",
       "      <td>4</td>\n",
       "      <td>Paulo</td>\n",
       "      <td>Socio</td>\n",
       "      <td>2023-05-06</td>\n",
       "      <td>2023-05-09 23:59:24</td>\n",
       "      <td>8</td>\n",
       "      <td>16</td>\n",
       "    </tr>\n",
       "    <tr>\n",
       "      <th>21</th>\n",
       "      <td>LT Sento Sé I, II e Ourolândia</td>\n",
       "      <td>24</td>\n",
       "      <td>Elaboração de Material Gráfico</td>\n",
       "      <td>8</td>\n",
       "      <td>7</td>\n",
       "      <td>Raquel</td>\n",
       "      <td>Socio</td>\n",
       "      <td>2023-04-04</td>\n",
       "      <td>2023-04-04 23:59:24</td>\n",
       "      <td>8</td>\n",
       "      <td>8</td>\n",
       "    </tr>\n",
       "    <tr>\n",
       "      <th>22</th>\n",
       "      <td>CE Babilônia Centro</td>\n",
       "      <td>32</td>\n",
       "      <td>Itemização de Relatório</td>\n",
       "      <td>6</td>\n",
       "      <td>7</td>\n",
       "      <td>Raquel</td>\n",
       "      <td>Socio</td>\n",
       "      <td>2023-04-05</td>\n",
       "      <td>2023-04-05 23:59:24</td>\n",
       "      <td>6</td>\n",
       "      <td>6</td>\n",
       "    </tr>\n",
       "  </tbody>\n",
       "</table>\n",
       "</div>"
      ],
      "text/plain": [
       "                           project  task_id  \\\n",
       "0                CE Serra do Tigre        1   \n",
       "1                CE Serra do Tigre        1   \n",
       "2                     CE Cajuina A        2   \n",
       "3       UFV Oliveira dos Brejinhos        3   \n",
       "4              CE Babilônia Centro        4   \n",
       "5         CE Rio do Vento Expansão        5   \n",
       "6              CE Queimada Nova IV        6   \n",
       "7              CE Queimada Nova IV        7   \n",
       "8              CE Queimada Nova IV        8   \n",
       "9                    CE Cajuina 5L        9   \n",
       "10             CE Babilônia Centro       11   \n",
       "11             CE Babilônia Centro       12   \n",
       "12             CE Babilônia Centro       12   \n",
       "13             CE Babilônia Centro       13   \n",
       "14             CE Babilônia Centro       14   \n",
       "15              UFV Rio do Vento I       15   \n",
       "16                    LT Assuruá 6       16   \n",
       "17                    LT Assuruá 6       17   \n",
       "18                    LT Assuruá 6       18   \n",
       "19                    LT Assuruá 6       19   \n",
       "20  LT Sento Sé I, II e Ourolândia       23   \n",
       "21  LT Sento Sé I, II e Ourolândia       24   \n",
       "22             CE Babilônia Centro       32   \n",
       "\n",
       "                                  task  demand  people_id   person   team  \\\n",
       "0             Relatório de Edificações      32          2      Max  Socio   \n",
       "1             Relatório de Edificações      32          7   Raquel  Socio   \n",
       "2                     Diagnóstico PMIS      24          5  Mariana  Socio   \n",
       "3                 Mobilização de Campo       4          7   Raquel  Socio   \n",
       "4                     Programas PBA LT      16          6  Edimara  Socio   \n",
       "5                     Diagnóstico PMIS      32          5  Mariana  Socio   \n",
       "6                   Diagnóstico de ADA       8          6  Edimara  Socio   \n",
       "7                    Análise Integrada       4          6  Edimara  Socio   \n",
       "8           Revisão AIA/RIMA/Programas       8          6  Edimara  Socio   \n",
       "9         Revisão Inventário Turístico       4          7   Raquel  Socio   \n",
       "10  Campo - Mapeamento de Stakeholders      40          4    Paulo  Socio   \n",
       "11           Diagnóstico de Mapeamento     128          4    Paulo  Socio   \n",
       "12           Diagnóstico de Mapeamento     128          5  Mariana  Socio   \n",
       "13               Reuniões Comunitárias      24          4    Paulo  Socio   \n",
       "14         Revisão Final do Mapeamento      16          4    Paulo  Socio   \n",
       "15                           RAC IRDPA      32          3    Julio  Socio   \n",
       "16              Diagnóstico de AII/AID       8          1   Renata  Socio   \n",
       "17                         Prognóstico       4          1   Renata  Socio   \n",
       "18               Avaliação de Impactos       8          1   Renata  Socio   \n",
       "19                           Programas      16          1   Renata  Socio   \n",
       "20               Reuniões Comunitárias      16          4    Paulo  Socio   \n",
       "21      Elaboração de Material Gráfico       8          7   Raquel  Socio   \n",
       "22             Itemização de Relatório       6          7   Raquel  Socio   \n",
       "\n",
       "   start_date            end_date  hours_day  total_hours  \n",
       "0  2023-03-29 2023-03-30 23:59:24          8           16  \n",
       "1  2023-03-29 2023-03-30 23:59:24          8           16  \n",
       "2  2023-03-29 2023-03-31 23:59:24          8           24  \n",
       "3  2023-03-31 2023-03-31 23:59:24          4            4  \n",
       "4  2023-03-30 2023-03-31 23:59:24          8           16  \n",
       "5  2023-04-03 2023-04-06 23:59:24          8           32  \n",
       "6  2023-03-29 2023-03-29 23:59:24          8            8  \n",
       "7  2023-03-30 2023-03-30 23:59:24          4            4  \n",
       "8  2023-03-30 2023-03-31 23:59:24          4            8  \n",
       "9  2023-04-03 2023-04-03 23:59:24          4            4  \n",
       "10 2023-03-29 2023-04-04 23:59:24          8           40  \n",
       "11 2023-04-10 2023-04-19 23:59:24          8           64  \n",
       "12 2023-04-10 2023-04-19 23:59:24          8           64  \n",
       "13 2023-05-03 2023-05-05 23:59:24          8           24  \n",
       "14 2023-05-08 2023-05-09 23:59:24          8           16  \n",
       "15 2023-04-03 2023-04-06 23:59:24          8           32  \n",
       "16 2023-04-06 2023-04-06 23:59:24          8            8  \n",
       "17 2023-04-10 2023-04-10 23:59:24          4            4  \n",
       "18 2023-04-11 2023-04-11 23:59:24          8            8  \n",
       "19 2023-04-12 2023-04-13 23:59:24          8           16  \n",
       "20 2023-05-06 2023-05-09 23:59:24          8           16  \n",
       "21 2023-04-04 2023-04-04 23:59:24          8            8  \n",
       "22 2023-04-05 2023-04-05 23:59:24          6            6  "
      ]
     },
     "execution_count": 71,
     "metadata": {},
     "output_type": "execute_result"
    }
   ],
   "source": [
    "df"
   ]
  },
  {
   "cell_type": "code",
   "execution_count": 72,
   "id": "0b56921e",
   "metadata": {},
   "outputs": [
    {
     "data": {
      "application/vnd.plotly.v1+json": {
       "config": {
        "plotlyServerURL": "https://plot.ly"
       },
       "data": [
        {
         "alignmentgroup": "True",
         "base": [
          "2023-03-29T00:00:00"
         ],
         "hovertemplate": "=%{y}<br>start_date=%{base}<br>end_date=%{x}<extra></extra>",
         "legendgroup": "Max",
         "marker": {
          "color": "#636efa",
          "pattern": {
           "shape": ""
          }
         },
         "name": "Max",
         "offsetgroup": "Max",
         "orientation": "h",
         "showlegend": true,
         "textposition": "auto",
         "type": "bar",
         "x": [
          172764000
         ],
         "xaxis": "x",
         "y": [
          "Max"
         ],
         "yaxis": "y"
        },
        {
         "alignmentgroup": "True",
         "base": [
          "2023-03-29T00:00:00",
          "2023-03-31T00:00:00",
          "2023-04-03T00:00:00",
          "2023-04-04T00:00:00",
          "2023-04-05T00:00:00"
         ],
         "hovertemplate": "=%{y}<br>start_date=%{base}<br>end_date=%{x}<extra></extra>",
         "legendgroup": "Raquel",
         "marker": {
          "color": "#EF553B",
          "pattern": {
           "shape": ""
          }
         },
         "name": "Raquel",
         "offsetgroup": "Raquel",
         "orientation": "h",
         "showlegend": true,
         "textposition": "auto",
         "type": "bar",
         "x": [
          172764000,
          86364000,
          86364000,
          86364000,
          86364000
         ],
         "xaxis": "x",
         "y": [
          "Raquel",
          "Raquel",
          "Raquel",
          "Raquel",
          "Raquel"
         ],
         "yaxis": "y"
        },
        {
         "alignmentgroup": "True",
         "base": [
          "2023-03-29T00:00:00",
          "2023-04-03T00:00:00",
          "2023-04-10T00:00:00"
         ],
         "hovertemplate": "=%{y}<br>start_date=%{base}<br>end_date=%{x}<extra></extra>",
         "legendgroup": "Mariana",
         "marker": {
          "color": "#00cc96",
          "pattern": {
           "shape": ""
          }
         },
         "name": "Mariana",
         "offsetgroup": "Mariana",
         "orientation": "h",
         "showlegend": true,
         "textposition": "auto",
         "type": "bar",
         "x": [
          259164000,
          345564000,
          863964000
         ],
         "xaxis": "x",
         "y": [
          "Mariana",
          "Mariana",
          "Mariana"
         ],
         "yaxis": "y"
        },
        {
         "alignmentgroup": "True",
         "base": [
          "2023-03-30T00:00:00",
          "2023-03-29T00:00:00",
          "2023-03-30T00:00:00",
          "2023-03-30T00:00:00"
         ],
         "hovertemplate": "=%{y}<br>start_date=%{base}<br>end_date=%{x}<extra></extra>",
         "legendgroup": "Edimara",
         "marker": {
          "color": "#ab63fa",
          "pattern": {
           "shape": ""
          }
         },
         "name": "Edimara",
         "offsetgroup": "Edimara",
         "orientation": "h",
         "showlegend": true,
         "textposition": "auto",
         "type": "bar",
         "x": [
          172764000,
          86364000,
          86364000,
          172764000
         ],
         "xaxis": "x",
         "y": [
          "Edimara",
          "Edimara",
          "Edimara",
          "Edimara"
         ],
         "yaxis": "y"
        },
        {
         "alignmentgroup": "True",
         "base": [
          "2023-03-29T00:00:00",
          "2023-04-10T00:00:00",
          "2023-05-03T00:00:00",
          "2023-05-08T00:00:00",
          "2023-05-06T00:00:00"
         ],
         "hovertemplate": "=%{y}<br>start_date=%{base}<br>end_date=%{x}<extra></extra>",
         "legendgroup": "Paulo",
         "marker": {
          "color": "#FFA15A",
          "pattern": {
           "shape": ""
          }
         },
         "name": "Paulo",
         "offsetgroup": "Paulo",
         "orientation": "h",
         "showlegend": true,
         "textposition": "auto",
         "type": "bar",
         "x": [
          604764000,
          863964000,
          259164000,
          172764000,
          345564000
         ],
         "xaxis": "x",
         "y": [
          "Paulo",
          "Paulo",
          "Paulo",
          "Paulo",
          "Paulo"
         ],
         "yaxis": "y"
        },
        {
         "alignmentgroup": "True",
         "base": [
          "2023-04-03T00:00:00"
         ],
         "hovertemplate": "=%{y}<br>start_date=%{base}<br>end_date=%{x}<extra></extra>",
         "legendgroup": "Julio",
         "marker": {
          "color": "#19d3f3",
          "pattern": {
           "shape": ""
          }
         },
         "name": "Julio",
         "offsetgroup": "Julio",
         "orientation": "h",
         "showlegend": true,
         "textposition": "auto",
         "type": "bar",
         "x": [
          345564000
         ],
         "xaxis": "x",
         "y": [
          "Julio"
         ],
         "yaxis": "y"
        },
        {
         "alignmentgroup": "True",
         "base": [
          "2023-04-06T00:00:00",
          "2023-04-10T00:00:00",
          "2023-04-11T00:00:00",
          "2023-04-12T00:00:00"
         ],
         "hovertemplate": "=%{y}<br>start_date=%{base}<br>end_date=%{x}<extra></extra>",
         "legendgroup": "Renata",
         "marker": {
          "color": "#FF6692",
          "pattern": {
           "shape": ""
          }
         },
         "name": "Renata",
         "offsetgroup": "Renata",
         "orientation": "h",
         "showlegend": true,
         "textposition": "auto",
         "type": "bar",
         "x": [
          86364000,
          86364000,
          86364000,
          172764000
         ],
         "xaxis": "x",
         "y": [
          "Renata",
          "Renata",
          "Renata",
          "Renata"
         ],
         "yaxis": "y"
        }
       ],
       "layout": {
        "barmode": "overlay",
        "legend": {
         "orientation": "h",
         "title": {
          "text": ""
         },
         "tracegroupgap": 0,
         "x": 0.5,
         "xanchor": "center",
         "y": -0.4,
         "yanchor": "bottom"
        },
        "template": {
         "data": {
          "bar": [
           {
            "error_x": {
             "color": "#f2f5fa"
            },
            "error_y": {
             "color": "#f2f5fa"
            },
            "marker": {
             "line": {
              "color": "rgb(17,17,17)",
              "width": 0.5
             },
             "pattern": {
              "fillmode": "overlay",
              "size": 10,
              "solidity": 0.2
             }
            },
            "type": "bar"
           }
          ],
          "barpolar": [
           {
            "marker": {
             "line": {
              "color": "rgb(17,17,17)",
              "width": 0.5
             },
             "pattern": {
              "fillmode": "overlay",
              "size": 10,
              "solidity": 0.2
             }
            },
            "type": "barpolar"
           }
          ],
          "carpet": [
           {
            "aaxis": {
             "endlinecolor": "#A2B1C6",
             "gridcolor": "#506784",
             "linecolor": "#506784",
             "minorgridcolor": "#506784",
             "startlinecolor": "#A2B1C6"
            },
            "baxis": {
             "endlinecolor": "#A2B1C6",
             "gridcolor": "#506784",
             "linecolor": "#506784",
             "minorgridcolor": "#506784",
             "startlinecolor": "#A2B1C6"
            },
            "type": "carpet"
           }
          ],
          "choropleth": [
           {
            "colorbar": {
             "outlinewidth": 0,
             "ticks": ""
            },
            "type": "choropleth"
           }
          ],
          "contour": [
           {
            "colorbar": {
             "outlinewidth": 0,
             "ticks": ""
            },
            "colorscale": [
             [
              0,
              "#0d0887"
             ],
             [
              0.1111111111111111,
              "#46039f"
             ],
             [
              0.2222222222222222,
              "#7201a8"
             ],
             [
              0.3333333333333333,
              "#9c179e"
             ],
             [
              0.4444444444444444,
              "#bd3786"
             ],
             [
              0.5555555555555556,
              "#d8576b"
             ],
             [
              0.6666666666666666,
              "#ed7953"
             ],
             [
              0.7777777777777778,
              "#fb9f3a"
             ],
             [
              0.8888888888888888,
              "#fdca26"
             ],
             [
              1,
              "#f0f921"
             ]
            ],
            "type": "contour"
           }
          ],
          "contourcarpet": [
           {
            "colorbar": {
             "outlinewidth": 0,
             "ticks": ""
            },
            "type": "contourcarpet"
           }
          ],
          "heatmap": [
           {
            "colorbar": {
             "outlinewidth": 0,
             "ticks": ""
            },
            "colorscale": [
             [
              0,
              "#0d0887"
             ],
             [
              0.1111111111111111,
              "#46039f"
             ],
             [
              0.2222222222222222,
              "#7201a8"
             ],
             [
              0.3333333333333333,
              "#9c179e"
             ],
             [
              0.4444444444444444,
              "#bd3786"
             ],
             [
              0.5555555555555556,
              "#d8576b"
             ],
             [
              0.6666666666666666,
              "#ed7953"
             ],
             [
              0.7777777777777778,
              "#fb9f3a"
             ],
             [
              0.8888888888888888,
              "#fdca26"
             ],
             [
              1,
              "#f0f921"
             ]
            ],
            "type": "heatmap"
           }
          ],
          "heatmapgl": [
           {
            "colorbar": {
             "outlinewidth": 0,
             "ticks": ""
            },
            "colorscale": [
             [
              0,
              "#0d0887"
             ],
             [
              0.1111111111111111,
              "#46039f"
             ],
             [
              0.2222222222222222,
              "#7201a8"
             ],
             [
              0.3333333333333333,
              "#9c179e"
             ],
             [
              0.4444444444444444,
              "#bd3786"
             ],
             [
              0.5555555555555556,
              "#d8576b"
             ],
             [
              0.6666666666666666,
              "#ed7953"
             ],
             [
              0.7777777777777778,
              "#fb9f3a"
             ],
             [
              0.8888888888888888,
              "#fdca26"
             ],
             [
              1,
              "#f0f921"
             ]
            ],
            "type": "heatmapgl"
           }
          ],
          "histogram": [
           {
            "marker": {
             "pattern": {
              "fillmode": "overlay",
              "size": 10,
              "solidity": 0.2
             }
            },
            "type": "histogram"
           }
          ],
          "histogram2d": [
           {
            "colorbar": {
             "outlinewidth": 0,
             "ticks": ""
            },
            "colorscale": [
             [
              0,
              "#0d0887"
             ],
             [
              0.1111111111111111,
              "#46039f"
             ],
             [
              0.2222222222222222,
              "#7201a8"
             ],
             [
              0.3333333333333333,
              "#9c179e"
             ],
             [
              0.4444444444444444,
              "#bd3786"
             ],
             [
              0.5555555555555556,
              "#d8576b"
             ],
             [
              0.6666666666666666,
              "#ed7953"
             ],
             [
              0.7777777777777778,
              "#fb9f3a"
             ],
             [
              0.8888888888888888,
              "#fdca26"
             ],
             [
              1,
              "#f0f921"
             ]
            ],
            "type": "histogram2d"
           }
          ],
          "histogram2dcontour": [
           {
            "colorbar": {
             "outlinewidth": 0,
             "ticks": ""
            },
            "colorscale": [
             [
              0,
              "#0d0887"
             ],
             [
              0.1111111111111111,
              "#46039f"
             ],
             [
              0.2222222222222222,
              "#7201a8"
             ],
             [
              0.3333333333333333,
              "#9c179e"
             ],
             [
              0.4444444444444444,
              "#bd3786"
             ],
             [
              0.5555555555555556,
              "#d8576b"
             ],
             [
              0.6666666666666666,
              "#ed7953"
             ],
             [
              0.7777777777777778,
              "#fb9f3a"
             ],
             [
              0.8888888888888888,
              "#fdca26"
             ],
             [
              1,
              "#f0f921"
             ]
            ],
            "type": "histogram2dcontour"
           }
          ],
          "mesh3d": [
           {
            "colorbar": {
             "outlinewidth": 0,
             "ticks": ""
            },
            "type": "mesh3d"
           }
          ],
          "parcoords": [
           {
            "line": {
             "colorbar": {
              "outlinewidth": 0,
              "ticks": ""
             }
            },
            "type": "parcoords"
           }
          ],
          "pie": [
           {
            "automargin": true,
            "type": "pie"
           }
          ],
          "scatter": [
           {
            "marker": {
             "line": {
              "color": "#283442"
             }
            },
            "type": "scatter"
           }
          ],
          "scatter3d": [
           {
            "line": {
             "colorbar": {
              "outlinewidth": 0,
              "ticks": ""
             }
            },
            "marker": {
             "colorbar": {
              "outlinewidth": 0,
              "ticks": ""
             }
            },
            "type": "scatter3d"
           }
          ],
          "scattercarpet": [
           {
            "marker": {
             "colorbar": {
              "outlinewidth": 0,
              "ticks": ""
             }
            },
            "type": "scattercarpet"
           }
          ],
          "scattergeo": [
           {
            "marker": {
             "colorbar": {
              "outlinewidth": 0,
              "ticks": ""
             }
            },
            "type": "scattergeo"
           }
          ],
          "scattergl": [
           {
            "marker": {
             "line": {
              "color": "#283442"
             }
            },
            "type": "scattergl"
           }
          ],
          "scattermapbox": [
           {
            "marker": {
             "colorbar": {
              "outlinewidth": 0,
              "ticks": ""
             }
            },
            "type": "scattermapbox"
           }
          ],
          "scatterpolar": [
           {
            "marker": {
             "colorbar": {
              "outlinewidth": 0,
              "ticks": ""
             }
            },
            "type": "scatterpolar"
           }
          ],
          "scatterpolargl": [
           {
            "marker": {
             "colorbar": {
              "outlinewidth": 0,
              "ticks": ""
             }
            },
            "type": "scatterpolargl"
           }
          ],
          "scatterternary": [
           {
            "marker": {
             "colorbar": {
              "outlinewidth": 0,
              "ticks": ""
             }
            },
            "type": "scatterternary"
           }
          ],
          "surface": [
           {
            "colorbar": {
             "outlinewidth": 0,
             "ticks": ""
            },
            "colorscale": [
             [
              0,
              "#0d0887"
             ],
             [
              0.1111111111111111,
              "#46039f"
             ],
             [
              0.2222222222222222,
              "#7201a8"
             ],
             [
              0.3333333333333333,
              "#9c179e"
             ],
             [
              0.4444444444444444,
              "#bd3786"
             ],
             [
              0.5555555555555556,
              "#d8576b"
             ],
             [
              0.6666666666666666,
              "#ed7953"
             ],
             [
              0.7777777777777778,
              "#fb9f3a"
             ],
             [
              0.8888888888888888,
              "#fdca26"
             ],
             [
              1,
              "#f0f921"
             ]
            ],
            "type": "surface"
           }
          ],
          "table": [
           {
            "cells": {
             "fill": {
              "color": "#506784"
             },
             "line": {
              "color": "rgb(17,17,17)"
             }
            },
            "header": {
             "fill": {
              "color": "#2a3f5f"
             },
             "line": {
              "color": "rgb(17,17,17)"
             }
            },
            "type": "table"
           }
          ]
         },
         "layout": {
          "annotationdefaults": {
           "arrowcolor": "#f2f5fa",
           "arrowhead": 0,
           "arrowwidth": 1
          },
          "autotypenumbers": "strict",
          "coloraxis": {
           "colorbar": {
            "outlinewidth": 0,
            "ticks": ""
           }
          },
          "colorscale": {
           "diverging": [
            [
             0,
             "#8e0152"
            ],
            [
             0.1,
             "#c51b7d"
            ],
            [
             0.2,
             "#de77ae"
            ],
            [
             0.3,
             "#f1b6da"
            ],
            [
             0.4,
             "#fde0ef"
            ],
            [
             0.5,
             "#f7f7f7"
            ],
            [
             0.6,
             "#e6f5d0"
            ],
            [
             0.7,
             "#b8e186"
            ],
            [
             0.8,
             "#7fbc41"
            ],
            [
             0.9,
             "#4d9221"
            ],
            [
             1,
             "#276419"
            ]
           ],
           "sequential": [
            [
             0,
             "#0d0887"
            ],
            [
             0.1111111111111111,
             "#46039f"
            ],
            [
             0.2222222222222222,
             "#7201a8"
            ],
            [
             0.3333333333333333,
             "#9c179e"
            ],
            [
             0.4444444444444444,
             "#bd3786"
            ],
            [
             0.5555555555555556,
             "#d8576b"
            ],
            [
             0.6666666666666666,
             "#ed7953"
            ],
            [
             0.7777777777777778,
             "#fb9f3a"
            ],
            [
             0.8888888888888888,
             "#fdca26"
            ],
            [
             1,
             "#f0f921"
            ]
           ],
           "sequentialminus": [
            [
             0,
             "#0d0887"
            ],
            [
             0.1111111111111111,
             "#46039f"
            ],
            [
             0.2222222222222222,
             "#7201a8"
            ],
            [
             0.3333333333333333,
             "#9c179e"
            ],
            [
             0.4444444444444444,
             "#bd3786"
            ],
            [
             0.5555555555555556,
             "#d8576b"
            ],
            [
             0.6666666666666666,
             "#ed7953"
            ],
            [
             0.7777777777777778,
             "#fb9f3a"
            ],
            [
             0.8888888888888888,
             "#fdca26"
            ],
            [
             1,
             "#f0f921"
            ]
           ]
          },
          "colorway": [
           "#636efa",
           "#EF553B",
           "#00cc96",
           "#ab63fa",
           "#FFA15A",
           "#19d3f3",
           "#FF6692",
           "#B6E880",
           "#FF97FF",
           "#FECB52"
          ],
          "font": {
           "color": "#f2f5fa"
          },
          "geo": {
           "bgcolor": "rgb(17,17,17)",
           "lakecolor": "rgb(17,17,17)",
           "landcolor": "rgb(17,17,17)",
           "showlakes": true,
           "showland": true,
           "subunitcolor": "#506784"
          },
          "hoverlabel": {
           "align": "left"
          },
          "hovermode": "closest",
          "mapbox": {
           "style": "dark"
          },
          "paper_bgcolor": "rgb(17,17,17)",
          "plot_bgcolor": "rgb(17,17,17)",
          "polar": {
           "angularaxis": {
            "gridcolor": "#506784",
            "linecolor": "#506784",
            "ticks": ""
           },
           "bgcolor": "rgb(17,17,17)",
           "radialaxis": {
            "gridcolor": "#506784",
            "linecolor": "#506784",
            "ticks": ""
           }
          },
          "scene": {
           "xaxis": {
            "backgroundcolor": "rgb(17,17,17)",
            "gridcolor": "#506784",
            "gridwidth": 2,
            "linecolor": "#506784",
            "showbackground": true,
            "ticks": "",
            "zerolinecolor": "#C8D4E3"
           },
           "yaxis": {
            "backgroundcolor": "rgb(17,17,17)",
            "gridcolor": "#506784",
            "gridwidth": 2,
            "linecolor": "#506784",
            "showbackground": true,
            "ticks": "",
            "zerolinecolor": "#C8D4E3"
           },
           "zaxis": {
            "backgroundcolor": "rgb(17,17,17)",
            "gridcolor": "#506784",
            "gridwidth": 2,
            "linecolor": "#506784",
            "showbackground": true,
            "ticks": "",
            "zerolinecolor": "#C8D4E3"
           }
          },
          "shapedefaults": {
           "line": {
            "color": "#f2f5fa"
           }
          },
          "sliderdefaults": {
           "bgcolor": "#C8D4E3",
           "bordercolor": "rgb(17,17,17)",
           "borderwidth": 1,
           "tickwidth": 0
          },
          "ternary": {
           "aaxis": {
            "gridcolor": "#506784",
            "linecolor": "#506784",
            "ticks": ""
           },
           "baxis": {
            "gridcolor": "#506784",
            "linecolor": "#506784",
            "ticks": ""
           },
           "bgcolor": "rgb(17,17,17)",
           "caxis": {
            "gridcolor": "#506784",
            "linecolor": "#506784",
            "ticks": ""
           }
          },
          "title": {
           "x": 0.05
          },
          "updatemenudefaults": {
           "bgcolor": "#506784",
           "borderwidth": 0
          },
          "xaxis": {
           "automargin": true,
           "gridcolor": "#283442",
           "linecolor": "#506784",
           "ticks": "",
           "title": {
            "standoff": 15
           },
           "zerolinecolor": "#283442",
           "zerolinewidth": 2
          },
          "yaxis": {
           "automargin": true,
           "gridcolor": "#283442",
           "linecolor": "#506784",
           "ticks": "",
           "title": {
            "standoff": 15
           },
           "zerolinecolor": "#283442",
           "zerolinewidth": 2
          }
         }
        },
        "title": {
         "text": "People Timeline"
        },
        "xaxis": {
         "anchor": "y",
         "domain": [
          0,
          1
         ],
         "type": "date"
        },
        "yaxis": {
         "anchor": "x",
         "autorange": "reversed",
         "categoryarray": [
          "Renata",
          "Julio",
          "Paulo",
          "Edimara",
          "Mariana",
          "Raquel",
          "Max"
         ],
         "categoryorder": "array",
         "domain": [
          0,
          1
         ],
         "title": {
          "text": ""
         }
        }
       }
      }
     },
     "metadata": {},
     "output_type": "display_data"
    }
   ],
   "source": [
    "fig6 = px.timeline(df, \n",
    "                       x_start='start_date', \n",
    "                       x_end='end_date', \n",
    "                       y='person', \n",
    "                       color='person',\n",
    "                       labels={'person': ''},\n",
    "                       title='People Timeline',)\n",
    "    \n",
    "fig6.update_yaxes(autorange='reversed') \n",
    "\n",
    "fig6.update_layout(\n",
    "    template='plotly_dark',\n",
    "    legend=dict(\n",
    "            orientation=\"h\",\n",
    "            yanchor=\"bottom\",\n",
    "            y=-0.4,\n",
    "            xanchor=\"center\",\n",
    "            x=0.5))\n",
    "\n",
    "fig6"
   ]
  },
  {
   "cell_type": "code",
   "execution_count": null,
   "id": "e20fb427",
   "metadata": {},
   "outputs": [],
   "source": []
  }
 ],
 "metadata": {
  "kernelspec": {
   "display_name": "Python 3 (ipykernel)",
   "language": "python",
   "name": "python3"
  },
  "language_info": {
   "codemirror_mode": {
    "name": "ipython",
    "version": 3
   },
   "file_extension": ".py",
   "mimetype": "text/x-python",
   "name": "python",
   "nbconvert_exporter": "python",
   "pygments_lexer": "ipython3",
   "version": "3.10.10"
  }
 },
 "nbformat": 4,
 "nbformat_minor": 5
}
